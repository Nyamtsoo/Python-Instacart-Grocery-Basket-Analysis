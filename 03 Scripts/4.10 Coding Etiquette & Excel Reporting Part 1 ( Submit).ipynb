{
 "cells": [
  {
   "cell_type": "markdown",
   "id": "2b880165",
   "metadata": {},
   "source": [
    "### 1. Import the data set you exported in Exercise 4.9 into a new Jupyter notebook. This should be the merged version of your data that contains the new customers column."
   ]
  },
  {
   "cell_type": "code",
   "execution_count": 1,
   "id": "896ea270",
   "metadata": {},
   "outputs": [],
   "source": [
    "#import libraries\n",
    "import pandas as pd\n",
    "import numpy as np\n",
    "import os\n",
    "import matplotlib.pyplot as plt\n",
    "import seaborn as sns\n",
    "import scipy"
   ]
  },
  {
   "cell_type": "code",
   "execution_count": 2,
   "id": "0ea592ba",
   "metadata": {},
   "outputs": [],
   "source": [
    "path = r'C:\\Users\\jnyam\\Documents\\Instacart Basket Analysis'"
   ]
  },
  {
   "cell_type": "code",
   "execution_count": 3,
   "id": "50033933",
   "metadata": {},
   "outputs": [],
   "source": [
    "df_ord_prods_cust = pd.read_pickle(os.path.join(path, '02 Data','Prepared Data', 'ord_prods_cust_9.1.pkl'))"
   ]
  },
  {
   "cell_type": "code",
   "execution_count": 4,
   "id": "e277e857",
   "metadata": {},
   "outputs": [
    {
     "data": {
      "text/plain": [
       "(32404859, 34)"
      ]
     },
     "execution_count": 4,
     "metadata": {},
     "output_type": "execute_result"
    }
   ],
   "source": [
    "df_ord_prods_cust.shape"
   ]
  },
  {
   "cell_type": "markdown",
   "id": "bfdf0649",
   "metadata": {},
   "source": [
    "### 2. Consider any security implications that might exist for this new data. You’ll need to address any PII data in the data before continuing your analysis."
   ]
  },
  {
   "cell_type": "code",
   "execution_count": 5,
   "id": "b7e0f6b8",
   "metadata": {
    "scrolled": true
   },
   "outputs": [
    {
     "data": {
      "text/html": [
       "<div>\n",
       "<style scoped>\n",
       "    .dataframe tbody tr th:only-of-type {\n",
       "        vertical-align: middle;\n",
       "    }\n",
       "\n",
       "    .dataframe tbody tr th {\n",
       "        vertical-align: top;\n",
       "    }\n",
       "\n",
       "    .dataframe thead th {\n",
       "        text-align: right;\n",
       "    }\n",
       "</style>\n",
       "<table border=\"1\" class=\"dataframe\">\n",
       "  <thead>\n",
       "    <tr style=\"text-align: right;\">\n",
       "      <th></th>\n",
       "      <th>order_id</th>\n",
       "      <th>user_id</th>\n",
       "      <th>order_number</th>\n",
       "      <th>orders_day_of_week</th>\n",
       "      <th>order_hour_of_day</th>\n",
       "      <th>days_since_prior_order</th>\n",
       "      <th>new_customer</th>\n",
       "      <th>product_id</th>\n",
       "      <th>add_to_cart_order</th>\n",
       "      <th>reordered</th>\n",
       "      <th>...</th>\n",
       "      <th>frequency_flag</th>\n",
       "      <th>first_name</th>\n",
       "      <th>last_name</th>\n",
       "      <th>gender</th>\n",
       "      <th>state</th>\n",
       "      <th>age</th>\n",
       "      <th>date_joined</th>\n",
       "      <th>dependants</th>\n",
       "      <th>family_status</th>\n",
       "      <th>income</th>\n",
       "    </tr>\n",
       "  </thead>\n",
       "  <tbody>\n",
       "    <tr>\n",
       "      <th>0</th>\n",
       "      <td>2539329</td>\n",
       "      <td>1</td>\n",
       "      <td>1</td>\n",
       "      <td>2</td>\n",
       "      <td>8</td>\n",
       "      <td>NaN</td>\n",
       "      <td>True</td>\n",
       "      <td>196.0</td>\n",
       "      <td>1.0</td>\n",
       "      <td>0.0</td>\n",
       "      <td>...</td>\n",
       "      <td>Non-frequent customer</td>\n",
       "      <td>Linda</td>\n",
       "      <td>Nguyen</td>\n",
       "      <td>Female</td>\n",
       "      <td>Alabama</td>\n",
       "      <td>31</td>\n",
       "      <td>2/17/2019</td>\n",
       "      <td>3</td>\n",
       "      <td>married</td>\n",
       "      <td>40423</td>\n",
       "    </tr>\n",
       "    <tr>\n",
       "      <th>1</th>\n",
       "      <td>2398795</td>\n",
       "      <td>1</td>\n",
       "      <td>2</td>\n",
       "      <td>3</td>\n",
       "      <td>7</td>\n",
       "      <td>15.0</td>\n",
       "      <td>False</td>\n",
       "      <td>196.0</td>\n",
       "      <td>1.0</td>\n",
       "      <td>1.0</td>\n",
       "      <td>...</td>\n",
       "      <td>Non-frequent customer</td>\n",
       "      <td>Linda</td>\n",
       "      <td>Nguyen</td>\n",
       "      <td>Female</td>\n",
       "      <td>Alabama</td>\n",
       "      <td>31</td>\n",
       "      <td>2/17/2019</td>\n",
       "      <td>3</td>\n",
       "      <td>married</td>\n",
       "      <td>40423</td>\n",
       "    </tr>\n",
       "    <tr>\n",
       "      <th>2</th>\n",
       "      <td>473747</td>\n",
       "      <td>1</td>\n",
       "      <td>3</td>\n",
       "      <td>3</td>\n",
       "      <td>12</td>\n",
       "      <td>21.0</td>\n",
       "      <td>False</td>\n",
       "      <td>196.0</td>\n",
       "      <td>1.0</td>\n",
       "      <td>1.0</td>\n",
       "      <td>...</td>\n",
       "      <td>Non-frequent customer</td>\n",
       "      <td>Linda</td>\n",
       "      <td>Nguyen</td>\n",
       "      <td>Female</td>\n",
       "      <td>Alabama</td>\n",
       "      <td>31</td>\n",
       "      <td>2/17/2019</td>\n",
       "      <td>3</td>\n",
       "      <td>married</td>\n",
       "      <td>40423</td>\n",
       "    </tr>\n",
       "    <tr>\n",
       "      <th>3</th>\n",
       "      <td>2254736</td>\n",
       "      <td>1</td>\n",
       "      <td>4</td>\n",
       "      <td>4</td>\n",
       "      <td>7</td>\n",
       "      <td>29.0</td>\n",
       "      <td>False</td>\n",
       "      <td>196.0</td>\n",
       "      <td>1.0</td>\n",
       "      <td>1.0</td>\n",
       "      <td>...</td>\n",
       "      <td>Non-frequent customer</td>\n",
       "      <td>Linda</td>\n",
       "      <td>Nguyen</td>\n",
       "      <td>Female</td>\n",
       "      <td>Alabama</td>\n",
       "      <td>31</td>\n",
       "      <td>2/17/2019</td>\n",
       "      <td>3</td>\n",
       "      <td>married</td>\n",
       "      <td>40423</td>\n",
       "    </tr>\n",
       "    <tr>\n",
       "      <th>4</th>\n",
       "      <td>431534</td>\n",
       "      <td>1</td>\n",
       "      <td>5</td>\n",
       "      <td>4</td>\n",
       "      <td>15</td>\n",
       "      <td>28.0</td>\n",
       "      <td>False</td>\n",
       "      <td>196.0</td>\n",
       "      <td>1.0</td>\n",
       "      <td>1.0</td>\n",
       "      <td>...</td>\n",
       "      <td>Non-frequent customer</td>\n",
       "      <td>Linda</td>\n",
       "      <td>Nguyen</td>\n",
       "      <td>Female</td>\n",
       "      <td>Alabama</td>\n",
       "      <td>31</td>\n",
       "      <td>2/17/2019</td>\n",
       "      <td>3</td>\n",
       "      <td>married</td>\n",
       "      <td>40423</td>\n",
       "    </tr>\n",
       "  </tbody>\n",
       "</table>\n",
       "<p>5 rows × 34 columns</p>\n",
       "</div>"
      ],
      "text/plain": [
       "   order_id  user_id  order_number  orders_day_of_week  order_hour_of_day  \\\n",
       "0   2539329        1             1                   2                  8   \n",
       "1   2398795        1             2                   3                  7   \n",
       "2    473747        1             3                   3                 12   \n",
       "3   2254736        1             4                   4                  7   \n",
       "4    431534        1             5                   4                 15   \n",
       "\n",
       "   days_since_prior_order  new_customer  product_id  add_to_cart_order  \\\n",
       "0                     NaN          True       196.0                1.0   \n",
       "1                    15.0         False       196.0                1.0   \n",
       "2                    21.0         False       196.0                1.0   \n",
       "3                    29.0         False       196.0                1.0   \n",
       "4                    28.0         False       196.0                1.0   \n",
       "\n",
       "   reordered  ...         frequency_flag first_name  last_name  gender  \\\n",
       "0        0.0  ...  Non-frequent customer      Linda     Nguyen  Female   \n",
       "1        1.0  ...  Non-frequent customer      Linda     Nguyen  Female   \n",
       "2        1.0  ...  Non-frequent customer      Linda     Nguyen  Female   \n",
       "3        1.0  ...  Non-frequent customer      Linda     Nguyen  Female   \n",
       "4        1.0  ...  Non-frequent customer      Linda     Nguyen  Female   \n",
       "\n",
       "     state age date_joined dependants family_status  income  \n",
       "0  Alabama  31   2/17/2019          3       married   40423  \n",
       "1  Alabama  31   2/17/2019          3       married   40423  \n",
       "2  Alabama  31   2/17/2019          3       married   40423  \n",
       "3  Alabama  31   2/17/2019          3       married   40423  \n",
       "4  Alabama  31   2/17/2019          3       married   40423  \n",
       "\n",
       "[5 rows x 34 columns]"
      ]
     },
     "execution_count": 5,
     "metadata": {},
     "output_type": "execute_result"
    }
   ],
   "source": [
    "#Checking PII data\n",
    "df_ord_prods_cust.head()"
   ]
  },
  {
   "cell_type": "markdown",
   "id": "e42d1443",
   "metadata": {},
   "source": [
    "There is data that includes personally identifiable information (PII), such as first and last name."
   ]
  },
  {
   "cell_type": "code",
   "execution_count": 6,
   "id": "7549d621",
   "metadata": {},
   "outputs": [],
   "source": [
    "# Dropping PII data\n",
    "df_PII = df_ord_prods_cust.drop(columns = ['first_name', 'last_name'])"
   ]
  },
  {
   "cell_type": "code",
   "execution_count": 7,
   "id": "9a8e13f5",
   "metadata": {},
   "outputs": [
    {
     "data": {
      "text/html": [
       "<div>\n",
       "<style scoped>\n",
       "    .dataframe tbody tr th:only-of-type {\n",
       "        vertical-align: middle;\n",
       "    }\n",
       "\n",
       "    .dataframe tbody tr th {\n",
       "        vertical-align: top;\n",
       "    }\n",
       "\n",
       "    .dataframe thead th {\n",
       "        text-align: right;\n",
       "    }\n",
       "</style>\n",
       "<table border=\"1\" class=\"dataframe\">\n",
       "  <thead>\n",
       "    <tr style=\"text-align: right;\">\n",
       "      <th></th>\n",
       "      <th>order_id</th>\n",
       "      <th>user_id</th>\n",
       "      <th>order_number</th>\n",
       "      <th>orders_day_of_week</th>\n",
       "      <th>order_hour_of_day</th>\n",
       "      <th>days_since_prior_order</th>\n",
       "      <th>new_customer</th>\n",
       "      <th>product_id</th>\n",
       "      <th>add_to_cart_order</th>\n",
       "      <th>reordered</th>\n",
       "      <th>...</th>\n",
       "      <th>spending_flag</th>\n",
       "      <th>frequency</th>\n",
       "      <th>frequency_flag</th>\n",
       "      <th>gender</th>\n",
       "      <th>state</th>\n",
       "      <th>age</th>\n",
       "      <th>date_joined</th>\n",
       "      <th>dependants</th>\n",
       "      <th>family_status</th>\n",
       "      <th>income</th>\n",
       "    </tr>\n",
       "  </thead>\n",
       "  <tbody>\n",
       "    <tr>\n",
       "      <th>0</th>\n",
       "      <td>2539329</td>\n",
       "      <td>1</td>\n",
       "      <td>1</td>\n",
       "      <td>2</td>\n",
       "      <td>8</td>\n",
       "      <td>NaN</td>\n",
       "      <td>True</td>\n",
       "      <td>196.0</td>\n",
       "      <td>1.0</td>\n",
       "      <td>0.0</td>\n",
       "      <td>...</td>\n",
       "      <td>Low spender</td>\n",
       "      <td>20.5</td>\n",
       "      <td>Non-frequent customer</td>\n",
       "      <td>Female</td>\n",
       "      <td>Alabama</td>\n",
       "      <td>31</td>\n",
       "      <td>2/17/2019</td>\n",
       "      <td>3</td>\n",
       "      <td>married</td>\n",
       "      <td>40423</td>\n",
       "    </tr>\n",
       "    <tr>\n",
       "      <th>1</th>\n",
       "      <td>2398795</td>\n",
       "      <td>1</td>\n",
       "      <td>2</td>\n",
       "      <td>3</td>\n",
       "      <td>7</td>\n",
       "      <td>15.0</td>\n",
       "      <td>False</td>\n",
       "      <td>196.0</td>\n",
       "      <td>1.0</td>\n",
       "      <td>1.0</td>\n",
       "      <td>...</td>\n",
       "      <td>Low spender</td>\n",
       "      <td>20.5</td>\n",
       "      <td>Non-frequent customer</td>\n",
       "      <td>Female</td>\n",
       "      <td>Alabama</td>\n",
       "      <td>31</td>\n",
       "      <td>2/17/2019</td>\n",
       "      <td>3</td>\n",
       "      <td>married</td>\n",
       "      <td>40423</td>\n",
       "    </tr>\n",
       "    <tr>\n",
       "      <th>2</th>\n",
       "      <td>473747</td>\n",
       "      <td>1</td>\n",
       "      <td>3</td>\n",
       "      <td>3</td>\n",
       "      <td>12</td>\n",
       "      <td>21.0</td>\n",
       "      <td>False</td>\n",
       "      <td>196.0</td>\n",
       "      <td>1.0</td>\n",
       "      <td>1.0</td>\n",
       "      <td>...</td>\n",
       "      <td>Low spender</td>\n",
       "      <td>20.5</td>\n",
       "      <td>Non-frequent customer</td>\n",
       "      <td>Female</td>\n",
       "      <td>Alabama</td>\n",
       "      <td>31</td>\n",
       "      <td>2/17/2019</td>\n",
       "      <td>3</td>\n",
       "      <td>married</td>\n",
       "      <td>40423</td>\n",
       "    </tr>\n",
       "    <tr>\n",
       "      <th>3</th>\n",
       "      <td>2254736</td>\n",
       "      <td>1</td>\n",
       "      <td>4</td>\n",
       "      <td>4</td>\n",
       "      <td>7</td>\n",
       "      <td>29.0</td>\n",
       "      <td>False</td>\n",
       "      <td>196.0</td>\n",
       "      <td>1.0</td>\n",
       "      <td>1.0</td>\n",
       "      <td>...</td>\n",
       "      <td>Low spender</td>\n",
       "      <td>20.5</td>\n",
       "      <td>Non-frequent customer</td>\n",
       "      <td>Female</td>\n",
       "      <td>Alabama</td>\n",
       "      <td>31</td>\n",
       "      <td>2/17/2019</td>\n",
       "      <td>3</td>\n",
       "      <td>married</td>\n",
       "      <td>40423</td>\n",
       "    </tr>\n",
       "    <tr>\n",
       "      <th>4</th>\n",
       "      <td>431534</td>\n",
       "      <td>1</td>\n",
       "      <td>5</td>\n",
       "      <td>4</td>\n",
       "      <td>15</td>\n",
       "      <td>28.0</td>\n",
       "      <td>False</td>\n",
       "      <td>196.0</td>\n",
       "      <td>1.0</td>\n",
       "      <td>1.0</td>\n",
       "      <td>...</td>\n",
       "      <td>Low spender</td>\n",
       "      <td>20.5</td>\n",
       "      <td>Non-frequent customer</td>\n",
       "      <td>Female</td>\n",
       "      <td>Alabama</td>\n",
       "      <td>31</td>\n",
       "      <td>2/17/2019</td>\n",
       "      <td>3</td>\n",
       "      <td>married</td>\n",
       "      <td>40423</td>\n",
       "    </tr>\n",
       "    <tr>\n",
       "      <th>...</th>\n",
       "      <td>...</td>\n",
       "      <td>...</td>\n",
       "      <td>...</td>\n",
       "      <td>...</td>\n",
       "      <td>...</td>\n",
       "      <td>...</td>\n",
       "      <td>...</td>\n",
       "      <td>...</td>\n",
       "      <td>...</td>\n",
       "      <td>...</td>\n",
       "      <td>...</td>\n",
       "      <td>...</td>\n",
       "      <td>...</td>\n",
       "      <td>...</td>\n",
       "      <td>...</td>\n",
       "      <td>...</td>\n",
       "      <td>...</td>\n",
       "      <td>...</td>\n",
       "      <td>...</td>\n",
       "      <td>...</td>\n",
       "      <td>...</td>\n",
       "    </tr>\n",
       "    <tr>\n",
       "      <th>32404854</th>\n",
       "      <td>156685</td>\n",
       "      <td>106143</td>\n",
       "      <td>26</td>\n",
       "      <td>4</td>\n",
       "      <td>23</td>\n",
       "      <td>5.0</td>\n",
       "      <td>False</td>\n",
       "      <td>19675.0</td>\n",
       "      <td>1.0</td>\n",
       "      <td>1.0</td>\n",
       "      <td>...</td>\n",
       "      <td>High spender</td>\n",
       "      <td>7.0</td>\n",
       "      <td>Frequent customer</td>\n",
       "      <td>Male</td>\n",
       "      <td>Hawaii</td>\n",
       "      <td>25</td>\n",
       "      <td>5/26/2017</td>\n",
       "      <td>0</td>\n",
       "      <td>single</td>\n",
       "      <td>53755</td>\n",
       "    </tr>\n",
       "    <tr>\n",
       "      <th>32404855</th>\n",
       "      <td>484769</td>\n",
       "      <td>66343</td>\n",
       "      <td>1</td>\n",
       "      <td>6</td>\n",
       "      <td>11</td>\n",
       "      <td>NaN</td>\n",
       "      <td>True</td>\n",
       "      <td>47210.0</td>\n",
       "      <td>1.0</td>\n",
       "      <td>0.0</td>\n",
       "      <td>...</td>\n",
       "      <td>Low spender</td>\n",
       "      <td>30.0</td>\n",
       "      <td>Non-frequent customer</td>\n",
       "      <td>Female</td>\n",
       "      <td>Tennessee</td>\n",
       "      <td>22</td>\n",
       "      <td>9/12/2017</td>\n",
       "      <td>3</td>\n",
       "      <td>married</td>\n",
       "      <td>46151</td>\n",
       "    </tr>\n",
       "    <tr>\n",
       "      <th>32404856</th>\n",
       "      <td>1561557</td>\n",
       "      <td>66343</td>\n",
       "      <td>2</td>\n",
       "      <td>1</td>\n",
       "      <td>11</td>\n",
       "      <td>30.0</td>\n",
       "      <td>False</td>\n",
       "      <td>47210.0</td>\n",
       "      <td>1.0</td>\n",
       "      <td>1.0</td>\n",
       "      <td>...</td>\n",
       "      <td>Low spender</td>\n",
       "      <td>30.0</td>\n",
       "      <td>Non-frequent customer</td>\n",
       "      <td>Female</td>\n",
       "      <td>Tennessee</td>\n",
       "      <td>22</td>\n",
       "      <td>9/12/2017</td>\n",
       "      <td>3</td>\n",
       "      <td>married</td>\n",
       "      <td>46151</td>\n",
       "    </tr>\n",
       "    <tr>\n",
       "      <th>32404857</th>\n",
       "      <td>276317</td>\n",
       "      <td>66343</td>\n",
       "      <td>3</td>\n",
       "      <td>6</td>\n",
       "      <td>15</td>\n",
       "      <td>19.0</td>\n",
       "      <td>False</td>\n",
       "      <td>47210.0</td>\n",
       "      <td>1.0</td>\n",
       "      <td>1.0</td>\n",
       "      <td>...</td>\n",
       "      <td>Low spender</td>\n",
       "      <td>30.0</td>\n",
       "      <td>Non-frequent customer</td>\n",
       "      <td>Female</td>\n",
       "      <td>Tennessee</td>\n",
       "      <td>22</td>\n",
       "      <td>9/12/2017</td>\n",
       "      <td>3</td>\n",
       "      <td>married</td>\n",
       "      <td>46151</td>\n",
       "    </tr>\n",
       "    <tr>\n",
       "      <th>32404858</th>\n",
       "      <td>2922475</td>\n",
       "      <td>66343</td>\n",
       "      <td>4</td>\n",
       "      <td>1</td>\n",
       "      <td>12</td>\n",
       "      <td>30.0</td>\n",
       "      <td>False</td>\n",
       "      <td>47210.0</td>\n",
       "      <td>1.0</td>\n",
       "      <td>1.0</td>\n",
       "      <td>...</td>\n",
       "      <td>Low spender</td>\n",
       "      <td>30.0</td>\n",
       "      <td>Non-frequent customer</td>\n",
       "      <td>Female</td>\n",
       "      <td>Tennessee</td>\n",
       "      <td>22</td>\n",
       "      <td>9/12/2017</td>\n",
       "      <td>3</td>\n",
       "      <td>married</td>\n",
       "      <td>46151</td>\n",
       "    </tr>\n",
       "  </tbody>\n",
       "</table>\n",
       "<p>32404859 rows × 32 columns</p>\n",
       "</div>"
      ],
      "text/plain": [
       "          order_id  user_id  order_number  orders_day_of_week  \\\n",
       "0          2539329        1             1                   2   \n",
       "1          2398795        1             2                   3   \n",
       "2           473747        1             3                   3   \n",
       "3          2254736        1             4                   4   \n",
       "4           431534        1             5                   4   \n",
       "...            ...      ...           ...                 ...   \n",
       "32404854    156685   106143            26                   4   \n",
       "32404855    484769    66343             1                   6   \n",
       "32404856   1561557    66343             2                   1   \n",
       "32404857    276317    66343             3                   6   \n",
       "32404858   2922475    66343             4                   1   \n",
       "\n",
       "          order_hour_of_day  days_since_prior_order  new_customer  product_id  \\\n",
       "0                         8                     NaN          True       196.0   \n",
       "1                         7                    15.0         False       196.0   \n",
       "2                        12                    21.0         False       196.0   \n",
       "3                         7                    29.0         False       196.0   \n",
       "4                        15                    28.0         False       196.0   \n",
       "...                     ...                     ...           ...         ...   \n",
       "32404854                 23                     5.0         False     19675.0   \n",
       "32404855                 11                     NaN          True     47210.0   \n",
       "32404856                 11                    30.0         False     47210.0   \n",
       "32404857                 15                    19.0         False     47210.0   \n",
       "32404858                 12                    30.0         False     47210.0   \n",
       "\n",
       "          add_to_cart_order  reordered  ... spending_flag frequency  \\\n",
       "0                       1.0        0.0  ...   Low spender      20.5   \n",
       "1                       1.0        1.0  ...   Low spender      20.5   \n",
       "2                       1.0        1.0  ...   Low spender      20.5   \n",
       "3                       1.0        1.0  ...   Low spender      20.5   \n",
       "4                       1.0        1.0  ...   Low spender      20.5   \n",
       "...                     ...        ...  ...           ...       ...   \n",
       "32404854                1.0        1.0  ...  High spender       7.0   \n",
       "32404855                1.0        0.0  ...   Low spender      30.0   \n",
       "32404856                1.0        1.0  ...   Low spender      30.0   \n",
       "32404857                1.0        1.0  ...   Low spender      30.0   \n",
       "32404858                1.0        1.0  ...   Low spender      30.0   \n",
       "\n",
       "                 frequency_flag  gender      state age date_joined dependants  \\\n",
       "0         Non-frequent customer  Female    Alabama  31   2/17/2019          3   \n",
       "1         Non-frequent customer  Female    Alabama  31   2/17/2019          3   \n",
       "2         Non-frequent customer  Female    Alabama  31   2/17/2019          3   \n",
       "3         Non-frequent customer  Female    Alabama  31   2/17/2019          3   \n",
       "4         Non-frequent customer  Female    Alabama  31   2/17/2019          3   \n",
       "...                         ...     ...        ...  ..         ...        ...   \n",
       "32404854      Frequent customer    Male     Hawaii  25   5/26/2017          0   \n",
       "32404855  Non-frequent customer  Female  Tennessee  22   9/12/2017          3   \n",
       "32404856  Non-frequent customer  Female  Tennessee  22   9/12/2017          3   \n",
       "32404857  Non-frequent customer  Female  Tennessee  22   9/12/2017          3   \n",
       "32404858  Non-frequent customer  Female  Tennessee  22   9/12/2017          3   \n",
       "\n",
       "         family_status  income  \n",
       "0              married   40423  \n",
       "1              married   40423  \n",
       "2              married   40423  \n",
       "3              married   40423  \n",
       "4              married   40423  \n",
       "...                ...     ...  \n",
       "32404854        single   53755  \n",
       "32404855       married   46151  \n",
       "32404856       married   46151  \n",
       "32404857       married   46151  \n",
       "32404858       married   46151  \n",
       "\n",
       "[32404859 rows x 32 columns]"
      ]
     },
     "execution_count": 7,
     "metadata": {},
     "output_type": "execute_result"
    }
   ],
   "source": [
    "df_PII"
   ]
  },
  {
   "cell_type": "markdown",
   "id": "c3db08a6",
   "metadata": {},
   "source": [
    "### 3. The Instacart officers are interested in comparing customer behavior in different geographic areas. Create a regional segmentation of the data. You’ll need to create a “Region” column based on the “State” column from your customers data set."
   ]
  },
  {
   "cell_type": "markdown",
   "id": "02bc1f16",
   "metadata": {},
   "source": [
    "#### 3.1 Use the region information in this Wikipedia article to create your column (you only need to create regions, not divisions).\n"
   ]
  },
  {
   "cell_type": "code",
   "execution_count": 8,
   "id": "9320aefc",
   "metadata": {},
   "outputs": [],
   "source": [
    "# define the function\n",
    "result = []\n",
    "for value in df_ord_prods_cust['state']:\n",
    "    \n",
    "  if (value in ['Maine', 'New Hampshire', 'Vermont','Massachusetts', 'Rhode Island', 'Connecticut', 'New York', 'Pennsylvania', 'New Jersey']):\n",
    "    result.append ('Northeast')\n",
    "  elif (value in ['Wisconsin', 'Michigan', 'Illinois', 'Indiana','Ohio', 'North Dakota', 'South Dakota', 'Nebraska', 'Kansas', 'Minnesota', 'Iowa', 'Missouri']):\n",
    "    result.append ('Midwest')\n",
    "  elif (value in ['Delaware', 'Maryland', 'District of Columbia', 'Virginia', 'West Virginia', 'North Carolina', 'South Carolina', 'Georgia', 'Florida', 'Kentucky', 'Tennessee', 'Mississippi', 'Alabama']):\n",
    "    result.append ('South') \n",
    "  else: result.append ('West')"
   ]
  },
  {
   "cell_type": "code",
   "execution_count": 9,
   "id": "d0c6778e",
   "metadata": {},
   "outputs": [],
   "source": [
    "# apply the function\n",
    "df_ord_prods_cust['region'] = result"
   ]
  },
  {
   "cell_type": "code",
   "execution_count": 10,
   "id": "0e2a96ec",
   "metadata": {},
   "outputs": [
    {
     "data": {
      "text/plain": [
       "West         10858672\n",
       "South         8226126\n",
       "Midwest       7597325\n",
       "Northeast     5722736\n",
       "Name: region, dtype: int64"
      ]
     },
     "execution_count": 10,
     "metadata": {},
     "output_type": "execute_result"
    }
   ],
   "source": [
    "df_ord_prods_cust['region'].value_counts(dropna = False)"
   ]
  },
  {
   "cell_type": "code",
   "execution_count": 11,
   "id": "3d2ed231",
   "metadata": {
    "scrolled": false
   },
   "outputs": [
    {
     "data": {
      "image/png": "[encoded data removed]",
      "text/plain": [
       "<Figure size 432x288 with 1 Axes>"
      ]
     },
     "metadata": {
      "needs_background": "light"
     },
     "output_type": "display_data"
    }
   ],
   "source": [
    "# Region visualization\n",
    "region = df_ord_prods_cust['region'].value_counts().plot.bar(color = 'navy')"
   ]
  },
  {
   "cell_type": "code",
   "execution_count": 12,
   "id": "cace2745",
   "metadata": {},
   "outputs": [],
   "source": [
    "# Exporting visualization\n",
    "region = region.figure.savefig(os.path.join(path, '04 Analysis', 'Visualizations', 'region.png'))"
   ]
  },
  {
   "cell_type": "markdown",
   "id": "fee776d6",
   "metadata": {},
   "source": [
    "#### 3.2 Determine whether there’s a difference in spending habits between the different U.S. regions. (Hint: You can do this by crossing the variable you just created with the spending flag.)"
   ]
  },
  {
   "cell_type": "code",
   "execution_count": 158,
   "id": "9510e887",
   "metadata": {},
   "outputs": [],
   "source": [
    "# checking spending flag by regions\n",
    "crosstab_income_region = pd.crosstab(df_ord_prods_cust['region'], df_ord_prods_cust['spending_flag'], dropna = False )"
   ]
  },
  {
   "cell_type": "code",
   "execution_count": 159,
   "id": "b92aa151",
   "metadata": {
    "scrolled": false
   },
   "outputs": [
    {
     "data": {
      "text/html": [
       "<div>\n",
       "<style scoped>\n",
       "    .dataframe tbody tr th:only-of-type {\n",
       "        vertical-align: middle;\n",
       "    }\n",
       "\n",
       "    .dataframe tbody tr th {\n",
       "        vertical-align: top;\n",
       "    }\n",
       "\n",
       "    .dataframe thead th {\n",
       "        text-align: right;\n",
       "    }\n",
       "</style>\n",
       "<table border=\"1\" class=\"dataframe\">\n",
       "  <thead>\n",
       "    <tr style=\"text-align: right;\">\n",
       "      <th>spending_flag</th>\n",
       "      <th>High spender</th>\n",
       "      <th>Low spender</th>\n",
       "    </tr>\n",
       "    <tr>\n",
       "      <th>region</th>\n",
       "      <th></th>\n",
       "      <th></th>\n",
       "    </tr>\n",
       "  </thead>\n",
       "  <tbody>\n",
       "    <tr>\n",
       "      <th>Midwest</th>\n",
       "      <td>155932</td>\n",
       "      <td>7441350</td>\n",
       "    </tr>\n",
       "    <tr>\n",
       "      <th>Northeast</th>\n",
       "      <td>108180</td>\n",
       "      <td>5614511</td>\n",
       "    </tr>\n",
       "    <tr>\n",
       "      <th>South</th>\n",
       "      <td>164113</td>\n",
       "      <td>8061866</td>\n",
       "    </tr>\n",
       "    <tr>\n",
       "      <th>West</th>\n",
       "      <td>205639</td>\n",
       "      <td>10652887</td>\n",
       "    </tr>\n",
       "  </tbody>\n",
       "</table>\n",
       "</div>"
      ],
      "text/plain": [
       "spending_flag  High spender  Low spender\n",
       "region                                  \n",
       "Midwest              155932      7441350\n",
       "Northeast            108180      5614511\n",
       "South                164113      8061866\n",
       "West                 205639     10652887"
      ]
     },
     "execution_count": 159,
     "metadata": {},
     "output_type": "execute_result"
    }
   ],
   "source": [
    "crosstab_income_region"
   ]
  },
  {
   "cell_type": "code",
   "execution_count": 160,
   "id": "175e6d9c",
   "metadata": {},
   "outputs": [
    {
     "data": {
      "image/png": "[encoded data removed]",
      "text/plain": [
       "<Figure size 432x288 with 1 Axes>"
      ]
     },
     "metadata": {
      "needs_background": "light"
     },
     "output_type": "display_data"
    }
   ],
   "source": [
    "crosstab_income_region = crosstab_income_region.plot(kind = 'bar', stacked = True, title = 'Spending by region')"
   ]
  },
  {
   "cell_type": "code",
   "execution_count": 16,
   "id": "6cbe2809",
   "metadata": {},
   "outputs": [],
   "source": [
    "# Exporting visualization\n",
    "crosstab_income_region.figure.savefig(os.path.join(path, '04 Analysis','Visualizations', 'crosstab_income_region.png'), bbox_inches=\"tight\")"
   ]
  },
  {
   "cell_type": "markdown",
   "id": "4a7d7f0a",
   "metadata": {},
   "source": [
    "### 4. The Instacart CFO isn’t interested in customers who don’t generate much revenue for the app. Create an exclusion flag for low-activity customers (customers with less than 5 orders) and exclude them from the data. Make sure you export this sample.\n"
   ]
  },
  {
   "cell_type": "code",
   "execution_count": 17,
   "id": "474e1938",
   "metadata": {},
   "outputs": [
    {
     "data": {
      "text/plain": [
       "99    1171333\n",
       "8      811843\n",
       "6      811396\n",
       "9      810213\n",
       "7      803979\n",
       "       ...   \n",
       "97      44949\n",
       "98      44587\n",
       "96      40453\n",
       "2           6\n",
       "1           5\n",
       "Name: max_order, Length: 99, dtype: int64"
      ]
     },
     "execution_count": 17,
     "metadata": {},
     "output_type": "execute_result"
    }
   ],
   "source": [
    "df_ord_prods_cust['max_order'].value_counts(dropna = False)"
   ]
  },
  {
   "cell_type": "code",
   "execution_count": 18,
   "id": "d2768792",
   "metadata": {},
   "outputs": [],
   "source": [
    "# Create a exclusion flag for low activity customer\n",
    "df_ord_prods_cust.loc[df_ord_prods_cust['max_order'] < 5, 'exclusion_flag'] = 'Low activity customer'"
   ]
  },
  {
   "cell_type": "code",
   "execution_count": 19,
   "id": "50b1c2cc",
   "metadata": {},
   "outputs": [],
   "source": [
    "# Create a exclusion flag for normal activity customer\n",
    "df_ord_prods_cust.loc[df_ord_prods_cust['max_order'] >= 5, 'exclusion_flag'] = 'Normal activity customer'"
   ]
  },
  {
   "cell_type": "code",
   "execution_count": 20,
   "id": "1628dbd5",
   "metadata": {},
   "outputs": [
    {
     "data": {
      "text/plain": [
       "Normal activity customer    30964564\n",
       "Low activity customer        1440295\n",
       "Name: exclusion_flag, dtype: int64"
      ]
     },
     "execution_count": 20,
     "metadata": {},
     "output_type": "execute_result"
    }
   ],
   "source": [
    "# Counts the number of low and normal activity customers\n",
    "df_ord_prods_cust['exclusion_flag'].value_counts (dropna = False)"
   ]
  },
  {
   "cell_type": "code",
   "execution_count": 21,
   "id": "10e0a4f0",
   "metadata": {},
   "outputs": [],
   "source": [
    "# create dataset for low activity customer\n",
    "df_low_activity_customer = df_ord_prods_cust[df_ord_prods_cust['exclusion_flag'] =='Low activity customer']"
   ]
  },
  {
   "cell_type": "code",
   "execution_count": 22,
   "id": "24ee2af2",
   "metadata": {},
   "outputs": [
    {
     "data": {
      "text/plain": [
       "4    753543\n",
       "3    686741\n",
       "2         6\n",
       "1         5\n",
       "Name: max_order, dtype: int64"
      ]
     },
     "execution_count": 22,
     "metadata": {},
     "output_type": "execute_result"
    }
   ],
   "source": [
    "df_low_activity_customer['max_order'].value_counts (dropna = False)"
   ]
  },
  {
   "cell_type": "code",
   "execution_count": 23,
   "id": "222476c9",
   "metadata": {},
   "outputs": [],
   "source": [
    "# create dataset for normal activity customer\n",
    "df_normal_activity_customer = df_ord_prods_cust[df_ord_prods_cust['exclusion_flag'] =='Normal activity customer']"
   ]
  },
  {
   "cell_type": "code",
   "execution_count": 24,
   "id": "e70e656d",
   "metadata": {},
   "outputs": [
    {
     "data": {
      "text/plain": [
       "99    1171333\n",
       "8      811843\n",
       "6      811396\n",
       "9      810213\n",
       "7      803979\n",
       "       ...   \n",
       "93      50333\n",
       "90      48328\n",
       "97      44949\n",
       "98      44587\n",
       "96      40453\n",
       "Name: max_order, Length: 95, dtype: int64"
      ]
     },
     "execution_count": 24,
     "metadata": {},
     "output_type": "execute_result"
    }
   ],
   "source": [
    "df_normal_activity_customer['max_order'].value_counts (dropna = False)"
   ]
  },
  {
   "cell_type": "code",
   "execution_count": 25,
   "id": "0e4b6ef5",
   "metadata": {},
   "outputs": [],
   "source": [
    "# Export the normal activity customer dataset\n",
    "df_normal_activity_customer.to_pickle(os.path.join(path,'02 Data','Prepared Data','normal_activity_customer.pkl'))"
   ]
  },
  {
   "cell_type": "code",
   "execution_count": 26,
   "id": "8fd90a86",
   "metadata": {},
   "outputs": [],
   "source": [
    "# Export the low activity customer dataset\n",
    "df_low_activity_customer.to_pickle(os.path.join(path,'02 Data','Prepared Data','low_activity_customer.pkl'))"
   ]
  },
  {
   "cell_type": "markdown",
   "id": "52b79527",
   "metadata": {},
   "source": [
    "### 5. The marketing and business strategy units at Instacart want to create more-relevant marketing strategies for different products and are, thus, curious about customer profiling in their database. Create a profiling variable based on age, income, certain goods in the “department_id” column, and number of dependents. You might also use the “orders_day_of_the_week” and “order_hour_of_day” columns if you can think of a way they would impact customer profiles. (Hint: As an example, try thinking of what characteristics would lead you to the profile “Single adult” or “Young parent.”)"
   ]
  },
  {
   "cell_type": "markdown",
   "id": "c735c474",
   "metadata": {},
   "source": [
    "### --------------------------------------------------------------- AGE-----------------------------------------------------------------"
   ]
  },
  {
   "cell_type": "code",
   "execution_count": 27,
   "id": "686e57fa",
   "metadata": {},
   "outputs": [
    {
     "data": {
      "text/plain": [
       "18"
      ]
     },
     "execution_count": 27,
     "metadata": {},
     "output_type": "execute_result"
    }
   ],
   "source": [
    "# Checkin min age\n",
    "df_ord_prods_cust.age.min()"
   ]
  },
  {
   "cell_type": "code",
   "execution_count": 28,
   "id": "4fea65e4",
   "metadata": {},
   "outputs": [
    {
     "data": {
      "text/plain": [
       "81"
      ]
     },
     "execution_count": 28,
     "metadata": {},
     "output_type": "execute_result"
    }
   ],
   "source": [
    "# Checkin max age\n",
    "df_ord_prods_cust.age.max()"
   ]
  },
  {
   "cell_type": "code",
   "execution_count": 29,
   "id": "05f4a182",
   "metadata": {},
   "outputs": [
    {
     "data": {
      "text/html": [
       "<div>\n",
       "<style scoped>\n",
       "    .dataframe tbody tr th:only-of-type {\n",
       "        vertical-align: middle;\n",
       "    }\n",
       "\n",
       "    .dataframe tbody tr th {\n",
       "        vertical-align: top;\n",
       "    }\n",
       "\n",
       "    .dataframe thead th {\n",
       "        text-align: right;\n",
       "    }\n",
       "</style>\n",
       "<table border=\"1\" class=\"dataframe\">\n",
       "  <thead>\n",
       "    <tr style=\"text-align: right;\">\n",
       "      <th></th>\n",
       "      <th>order_id</th>\n",
       "      <th>user_id</th>\n",
       "      <th>order_number</th>\n",
       "      <th>orders_day_of_week</th>\n",
       "      <th>order_hour_of_day</th>\n",
       "      <th>days_since_prior_order</th>\n",
       "      <th>new_customer</th>\n",
       "      <th>product_id</th>\n",
       "      <th>add_to_cart_order</th>\n",
       "      <th>reordered</th>\n",
       "      <th>...</th>\n",
       "      <th>last_name</th>\n",
       "      <th>gender</th>\n",
       "      <th>state</th>\n",
       "      <th>age</th>\n",
       "      <th>date_joined</th>\n",
       "      <th>dependants</th>\n",
       "      <th>family_status</th>\n",
       "      <th>income</th>\n",
       "      <th>region</th>\n",
       "      <th>exclusion_flag</th>\n",
       "    </tr>\n",
       "  </thead>\n",
       "  <tbody>\n",
       "    <tr>\n",
       "      <th>0</th>\n",
       "      <td>2539329</td>\n",
       "      <td>1</td>\n",
       "      <td>1</td>\n",
       "      <td>2</td>\n",
       "      <td>8</td>\n",
       "      <td>NaN</td>\n",
       "      <td>True</td>\n",
       "      <td>196.0</td>\n",
       "      <td>1.0</td>\n",
       "      <td>0.0</td>\n",
       "      <td>...</td>\n",
       "      <td>Nguyen</td>\n",
       "      <td>Female</td>\n",
       "      <td>Alabama</td>\n",
       "      <td>31</td>\n",
       "      <td>2/17/2019</td>\n",
       "      <td>3</td>\n",
       "      <td>married</td>\n",
       "      <td>40423</td>\n",
       "      <td>South</td>\n",
       "      <td>Normal activity customer</td>\n",
       "    </tr>\n",
       "    <tr>\n",
       "      <th>1</th>\n",
       "      <td>2398795</td>\n",
       "      <td>1</td>\n",
       "      <td>2</td>\n",
       "      <td>3</td>\n",
       "      <td>7</td>\n",
       "      <td>15.0</td>\n",
       "      <td>False</td>\n",
       "      <td>196.0</td>\n",
       "      <td>1.0</td>\n",
       "      <td>1.0</td>\n",
       "      <td>...</td>\n",
       "      <td>Nguyen</td>\n",
       "      <td>Female</td>\n",
       "      <td>Alabama</td>\n",
       "      <td>31</td>\n",
       "      <td>2/17/2019</td>\n",
       "      <td>3</td>\n",
       "      <td>married</td>\n",
       "      <td>40423</td>\n",
       "      <td>South</td>\n",
       "      <td>Normal activity customer</td>\n",
       "    </tr>\n",
       "    <tr>\n",
       "      <th>2</th>\n",
       "      <td>473747</td>\n",
       "      <td>1</td>\n",
       "      <td>3</td>\n",
       "      <td>3</td>\n",
       "      <td>12</td>\n",
       "      <td>21.0</td>\n",
       "      <td>False</td>\n",
       "      <td>196.0</td>\n",
       "      <td>1.0</td>\n",
       "      <td>1.0</td>\n",
       "      <td>...</td>\n",
       "      <td>Nguyen</td>\n",
       "      <td>Female</td>\n",
       "      <td>Alabama</td>\n",
       "      <td>31</td>\n",
       "      <td>2/17/2019</td>\n",
       "      <td>3</td>\n",
       "      <td>married</td>\n",
       "      <td>40423</td>\n",
       "      <td>South</td>\n",
       "      <td>Normal activity customer</td>\n",
       "    </tr>\n",
       "    <tr>\n",
       "      <th>3</th>\n",
       "      <td>2254736</td>\n",
       "      <td>1</td>\n",
       "      <td>4</td>\n",
       "      <td>4</td>\n",
       "      <td>7</td>\n",
       "      <td>29.0</td>\n",
       "      <td>False</td>\n",
       "      <td>196.0</td>\n",
       "      <td>1.0</td>\n",
       "      <td>1.0</td>\n",
       "      <td>...</td>\n",
       "      <td>Nguyen</td>\n",
       "      <td>Female</td>\n",
       "      <td>Alabama</td>\n",
       "      <td>31</td>\n",
       "      <td>2/17/2019</td>\n",
       "      <td>3</td>\n",
       "      <td>married</td>\n",
       "      <td>40423</td>\n",
       "      <td>South</td>\n",
       "      <td>Normal activity customer</td>\n",
       "    </tr>\n",
       "    <tr>\n",
       "      <th>4</th>\n",
       "      <td>431534</td>\n",
       "      <td>1</td>\n",
       "      <td>5</td>\n",
       "      <td>4</td>\n",
       "      <td>15</td>\n",
       "      <td>28.0</td>\n",
       "      <td>False</td>\n",
       "      <td>196.0</td>\n",
       "      <td>1.0</td>\n",
       "      <td>1.0</td>\n",
       "      <td>...</td>\n",
       "      <td>Nguyen</td>\n",
       "      <td>Female</td>\n",
       "      <td>Alabama</td>\n",
       "      <td>31</td>\n",
       "      <td>2/17/2019</td>\n",
       "      <td>3</td>\n",
       "      <td>married</td>\n",
       "      <td>40423</td>\n",
       "      <td>South</td>\n",
       "      <td>Normal activity customer</td>\n",
       "    </tr>\n",
       "  </tbody>\n",
       "</table>\n",
       "<p>5 rows × 36 columns</p>\n",
       "</div>"
      ],
      "text/plain": [
       "   order_id  user_id  order_number  orders_day_of_week  order_hour_of_day  \\\n",
       "0   2539329        1             1                   2                  8   \n",
       "1   2398795        1             2                   3                  7   \n",
       "2    473747        1             3                   3                 12   \n",
       "3   2254736        1             4                   4                  7   \n",
       "4    431534        1             5                   4                 15   \n",
       "\n",
       "   days_since_prior_order  new_customer  product_id  add_to_cart_order  \\\n",
       "0                     NaN          True       196.0                1.0   \n",
       "1                    15.0         False       196.0                1.0   \n",
       "2                    21.0         False       196.0                1.0   \n",
       "3                    29.0         False       196.0                1.0   \n",
       "4                    28.0         False       196.0                1.0   \n",
       "\n",
       "   reordered  ... last_name  gender    state  age  date_joined dependants  \\\n",
       "0        0.0  ...    Nguyen  Female  Alabama   31    2/17/2019          3   \n",
       "1        1.0  ...    Nguyen  Female  Alabama   31    2/17/2019          3   \n",
       "2        1.0  ...    Nguyen  Female  Alabama   31    2/17/2019          3   \n",
       "3        1.0  ...    Nguyen  Female  Alabama   31    2/17/2019          3   \n",
       "4        1.0  ...    Nguyen  Female  Alabama   31    2/17/2019          3   \n",
       "\n",
       "  family_status income region            exclusion_flag  \n",
       "0       married  40423  South  Normal activity customer  \n",
       "1       married  40423  South  Normal activity customer  \n",
       "2       married  40423  South  Normal activity customer  \n",
       "3       married  40423  South  Normal activity customer  \n",
       "4       married  40423  South  Normal activity customer  \n",
       "\n",
       "[5 rows x 36 columns]"
      ]
     },
     "execution_count": 29,
     "metadata": {},
     "output_type": "execute_result"
    }
   ],
   "source": [
    "df_ord_prods_cust.head()"
   ]
  },
  {
   "cell_type": "code",
   "execution_count": 30,
   "id": "92a73873",
   "metadata": {},
   "outputs": [],
   "source": [
    "# Creating function for age group\n",
    "age_group = []\n",
    "  \n",
    "for value in df_ord_prods_cust ['age']:\n",
    "  if (value > 18) & (value <= 34 ):\n",
    "    age_group.append ('18-34 age group')\n",
    "  elif (value > 35) &  (value <= 50):\n",
    "    age_group.append ('35-50 age group')\n",
    "  elif (value > 51) & (value <= 69):\n",
    "     age_group.append ('51-69 age group')\n",
    "  else:\n",
    "     age_group.append ('70-81 age group')"
   ]
  },
  {
   "cell_type": "code",
   "execution_count": 31,
   "id": "45843aaf",
   "metadata": {},
   "outputs": [],
   "source": [
    "# Applying the function\n",
    "df_ord_prods_cust['age_group'] = age_group"
   ]
  },
  {
   "cell_type": "code",
   "execution_count": 32,
   "id": "3aa43af7",
   "metadata": {},
   "outputs": [
    {
     "data": {
      "text/plain": [
       "51-69 age group    9047702\n",
       "18-34 age group    8127181\n",
       "35-50 age group    7615806\n",
       "70-81 age group    7614170\n",
       "Name: age_group, dtype: int64"
      ]
     },
     "execution_count": 32,
     "metadata": {},
     "output_type": "execute_result"
    }
   ],
   "source": [
    "# Counting age groups\n",
    "df_ord_prods_cust['age_group'].value_counts(dropna = False)"
   ]
  },
  {
   "cell_type": "code",
   "execution_count": 33,
   "id": "3f610a86",
   "metadata": {
    "scrolled": true
   },
   "outputs": [
    {
     "data": {
      "image/png": "[encoded data removed]",
      "text/plain": [
       "<Figure size 432x288 with 1 Axes>"
      ]
     },
     "metadata": {
      "needs_background": "light"
     },
     "output_type": "display_data"
    }
   ],
   "source": [
    "# Age group visualization\n",
    "bar_age_group = df_ord_prods_cust['age_group'].value_counts().sort_index().plot.bar(ylabel = 'Count (million)')\n"
   ]
  },
  {
   "cell_type": "code",
   "execution_count": 152,
   "id": "47551088",
   "metadata": {},
   "outputs": [],
   "source": [
    "# Exporting visualiztion\n",
    "bar_age_group.figure.savefig(os.path.join(path, '04 Analysis','Visualizations', 'bar_age_group.png'), bbox_inches=\"tight\")"
   ]
  },
  {
   "cell_type": "code",
   "execution_count": 34,
   "id": "7494d123",
   "metadata": {},
   "outputs": [],
   "source": [
    "#Checking spending by age group\n",
    "crosstab_age_spending_1 = pd.crosstab(df_ord_prods_cust['age_group'], df_ord_prods_cust['spending_flag'], dropna = False )"
   ]
  },
  {
   "cell_type": "code",
   "execution_count": 35,
   "id": "2e62b992",
   "metadata": {
    "scrolled": true
   },
   "outputs": [
    {
     "data": {
      "image/png": "[encoded data removed]",
      "text/plain": [
       "<Figure size 432x288 with 1 Axes>"
      ]
     },
     "metadata": {
      "needs_background": "light"
     },
     "output_type": "display_data"
    }
   ],
   "source": [
    "crosstab_age_spending_1 = crosstab_age_spending_1.plot(kind = 'bar', stacked = False, title = 'Spending by age group')"
   ]
  },
  {
   "cell_type": "code",
   "execution_count": 36,
   "id": "0e44d361",
   "metadata": {},
   "outputs": [],
   "source": [
    "# Exporting visualiztion\n",
    "crosstab_age_spending_1.figure.savefig(os.path.join(path, '04 Analysis','Visualizations', 'crosstab_age_spending_1.png'), bbox_inches=\"tight\")"
   ]
  },
  {
   "cell_type": "markdown",
   "id": "e888adbb",
   "metadata": {},
   "source": [
    "### ------------------------------------------------------- INCOME---------------------------------------------------------"
   ]
  },
  {
   "cell_type": "code",
   "execution_count": 37,
   "id": "366ba82c",
   "metadata": {},
   "outputs": [
    {
     "data": {
      "text/plain": [
       "25903"
      ]
     },
     "execution_count": 37,
     "metadata": {},
     "output_type": "execute_result"
    }
   ],
   "source": [
    "# Checkin min income\n",
    "df_ord_prods_cust.income.min()"
   ]
  },
  {
   "cell_type": "code",
   "execution_count": 38,
   "id": "23c98b24",
   "metadata": {},
   "outputs": [
    {
     "data": {
      "text/plain": [
       "593901"
      ]
     },
     "execution_count": 38,
     "metadata": {},
     "output_type": "execute_result"
    }
   ],
   "source": [
    "# Checkin max income\n",
    "df_ord_prods_cust.income.max()"
   ]
  },
  {
   "cell_type": "code",
   "execution_count": 39,
   "id": "0d8ae4f2",
   "metadata": {},
   "outputs": [],
   "source": [
    "# Create 'income range' list\n",
    "\n",
    "income_range = []\n",
    "\n",
    "for value in df_ord_prods_cust['income']:\n",
    "    if value < 20000:\n",
    "        income_range.append('Below or near poverty level')\n",
    "    elif (value >= 20000) and (value <= 44999):\n",
    "        income_range.append('Low income')\n",
    "    elif (value >= 45000) and (value <= 139999):\n",
    "        income_range.append('Middle class')\n",
    "    elif (value >= 140000) and (value <= 149999):\n",
    "        income_range.append('Upper middle class')\n",
    "    elif (value >= 150000) and (value <= 199999):\n",
    "        income_range.append('High income')\n",
    "    elif value >= 200000:\n",
    "        income_range.append('Highest income')"
   ]
  },
  {
   "cell_type": "code",
   "execution_count": 40,
   "id": "f3718e31",
   "metadata": {},
   "outputs": [],
   "source": [
    "# Applying income range\n",
    "df_ord_prods_cust['income_range'] = income_range"
   ]
  },
  {
   "cell_type": "code",
   "execution_count": 41,
   "id": "9b7b8e6f",
   "metadata": {},
   "outputs": [
    {
     "data": {
      "text/plain": [
       "Middle class          23833922\n",
       "High income            3793138\n",
       "Low income             2694896\n",
       "Upper middle class     1824460\n",
       "Highest income          258443\n",
       "Name: income_range, dtype: int64"
      ]
     },
     "execution_count": 41,
     "metadata": {},
     "output_type": "execute_result"
    }
   ],
   "source": [
    "# Counting income range\n",
    "df_ord_prods_cust['income_range'].value_counts(dropna = False)"
   ]
  },
  {
   "cell_type": "code",
   "execution_count": 42,
   "id": "a6849f0b",
   "metadata": {
    "scrolled": false
   },
   "outputs": [
    {
     "data": {
      "image/png": "[encoded data removed]",
      "text/plain": [
       "<Figure size 432x288 with 1 Axes>"
      ]
     },
     "metadata": {
      "needs_background": "light"
     },
     "output_type": "display_data"
    }
   ],
   "source": [
    "# income range visualization\n",
    "bar_income = df_ord_prods_cust['income_range'].value_counts().plot.bar(ylabel = 'Count (millions)', color = 'green')"
   ]
  },
  {
   "cell_type": "code",
   "execution_count": 43,
   "id": "3a92569b",
   "metadata": {},
   "outputs": [],
   "source": [
    "# Exporting visualization\n",
    "bar_income.figure.savefig(os.path.join(path, '04 Analysis','Visualizations', 'bar_income.png'), bbox_inches=\"tight\")"
   ]
  },
  {
   "cell_type": "code",
   "execution_count": 211,
   "id": "0474c7ee",
   "metadata": {},
   "outputs": [],
   "source": [
    "# Checking spending by income range\n",
    "crosstab_income_age = pd.crosstab(df_ord_prods_cust['income_range'], df_ord_prods_cust['age_group'], dropna = False )"
   ]
  },
  {
   "cell_type": "code",
   "execution_count": 212,
   "id": "df78a051",
   "metadata": {
    "scrolled": true
   },
   "outputs": [
    {
     "data": {
      "image/png": "[encoded data removed]",
      "text/plain": [
       "<Figure size 432x288 with 1 Axes>"
      ]
     },
     "metadata": {
      "needs_background": "light"
     },
     "output_type": "display_data"
    }
   ],
   "source": [
    "crosstab_income_age_11 = crosstab_income_age.plot(kind = 'bar', stacked = True, title = 'Spending by income range')"
   ]
  },
  {
   "cell_type": "code",
   "execution_count": 213,
   "id": "68e345ee",
   "metadata": {},
   "outputs": [],
   "source": [
    "# Exporting visualization\n",
    "crosstab_income_age_11.figure.savefig(os.path.join(path, '04 Analysis','Visualizations', 'crosstab_income_age_11.png'), bbox_inches=\"tight\")"
   ]
  },
  {
   "cell_type": "markdown",
   "id": "b768867e",
   "metadata": {},
   "source": [
    "### -------------------------------------------------- FAMILY STATUS---------------------------------------------------"
   ]
  },
  {
   "cell_type": "code",
   "execution_count": 47,
   "id": "9f5a37e0",
   "metadata": {},
   "outputs": [
    {
     "data": {
      "text/html": [
       "<div>\n",
       "<style scoped>\n",
       "    .dataframe tbody tr th:only-of-type {\n",
       "        vertical-align: middle;\n",
       "    }\n",
       "\n",
       "    .dataframe tbody tr th {\n",
       "        vertical-align: top;\n",
       "    }\n",
       "\n",
       "    .dataframe thead th {\n",
       "        text-align: right;\n",
       "    }\n",
       "</style>\n",
       "<table border=\"1\" class=\"dataframe\">\n",
       "  <thead>\n",
       "    <tr style=\"text-align: right;\">\n",
       "      <th></th>\n",
       "      <th>order_id</th>\n",
       "      <th>user_id</th>\n",
       "      <th>order_number</th>\n",
       "      <th>orders_day_of_week</th>\n",
       "      <th>order_hour_of_day</th>\n",
       "      <th>days_since_prior_order</th>\n",
       "      <th>new_customer</th>\n",
       "      <th>product_id</th>\n",
       "      <th>add_to_cart_order</th>\n",
       "      <th>reordered</th>\n",
       "      <th>...</th>\n",
       "      <th>state</th>\n",
       "      <th>age</th>\n",
       "      <th>date_joined</th>\n",
       "      <th>dependants</th>\n",
       "      <th>family_status</th>\n",
       "      <th>income</th>\n",
       "      <th>region</th>\n",
       "      <th>exclusion_flag</th>\n",
       "      <th>age_group</th>\n",
       "      <th>income_range</th>\n",
       "    </tr>\n",
       "  </thead>\n",
       "  <tbody>\n",
       "    <tr>\n",
       "      <th>0</th>\n",
       "      <td>2539329</td>\n",
       "      <td>1</td>\n",
       "      <td>1</td>\n",
       "      <td>2</td>\n",
       "      <td>8</td>\n",
       "      <td>NaN</td>\n",
       "      <td>True</td>\n",
       "      <td>196.0</td>\n",
       "      <td>1.0</td>\n",
       "      <td>0.0</td>\n",
       "      <td>...</td>\n",
       "      <td>Alabama</td>\n",
       "      <td>31</td>\n",
       "      <td>2/17/2019</td>\n",
       "      <td>3</td>\n",
       "      <td>married</td>\n",
       "      <td>40423</td>\n",
       "      <td>South</td>\n",
       "      <td>Normal activity customer</td>\n",
       "      <td>18-34 age group</td>\n",
       "      <td>Low income</td>\n",
       "    </tr>\n",
       "    <tr>\n",
       "      <th>1</th>\n",
       "      <td>2398795</td>\n",
       "      <td>1</td>\n",
       "      <td>2</td>\n",
       "      <td>3</td>\n",
       "      <td>7</td>\n",
       "      <td>15.0</td>\n",
       "      <td>False</td>\n",
       "      <td>196.0</td>\n",
       "      <td>1.0</td>\n",
       "      <td>1.0</td>\n",
       "      <td>...</td>\n",
       "      <td>Alabama</td>\n",
       "      <td>31</td>\n",
       "      <td>2/17/2019</td>\n",
       "      <td>3</td>\n",
       "      <td>married</td>\n",
       "      <td>40423</td>\n",
       "      <td>South</td>\n",
       "      <td>Normal activity customer</td>\n",
       "      <td>18-34 age group</td>\n",
       "      <td>Low income</td>\n",
       "    </tr>\n",
       "    <tr>\n",
       "      <th>2</th>\n",
       "      <td>473747</td>\n",
       "      <td>1</td>\n",
       "      <td>3</td>\n",
       "      <td>3</td>\n",
       "      <td>12</td>\n",
       "      <td>21.0</td>\n",
       "      <td>False</td>\n",
       "      <td>196.0</td>\n",
       "      <td>1.0</td>\n",
       "      <td>1.0</td>\n",
       "      <td>...</td>\n",
       "      <td>Alabama</td>\n",
       "      <td>31</td>\n",
       "      <td>2/17/2019</td>\n",
       "      <td>3</td>\n",
       "      <td>married</td>\n",
       "      <td>40423</td>\n",
       "      <td>South</td>\n",
       "      <td>Normal activity customer</td>\n",
       "      <td>18-34 age group</td>\n",
       "      <td>Low income</td>\n",
       "    </tr>\n",
       "    <tr>\n",
       "      <th>3</th>\n",
       "      <td>2254736</td>\n",
       "      <td>1</td>\n",
       "      <td>4</td>\n",
       "      <td>4</td>\n",
       "      <td>7</td>\n",
       "      <td>29.0</td>\n",
       "      <td>False</td>\n",
       "      <td>196.0</td>\n",
       "      <td>1.0</td>\n",
       "      <td>1.0</td>\n",
       "      <td>...</td>\n",
       "      <td>Alabama</td>\n",
       "      <td>31</td>\n",
       "      <td>2/17/2019</td>\n",
       "      <td>3</td>\n",
       "      <td>married</td>\n",
       "      <td>40423</td>\n",
       "      <td>South</td>\n",
       "      <td>Normal activity customer</td>\n",
       "      <td>18-34 age group</td>\n",
       "      <td>Low income</td>\n",
       "    </tr>\n",
       "    <tr>\n",
       "      <th>4</th>\n",
       "      <td>431534</td>\n",
       "      <td>1</td>\n",
       "      <td>5</td>\n",
       "      <td>4</td>\n",
       "      <td>15</td>\n",
       "      <td>28.0</td>\n",
       "      <td>False</td>\n",
       "      <td>196.0</td>\n",
       "      <td>1.0</td>\n",
       "      <td>1.0</td>\n",
       "      <td>...</td>\n",
       "      <td>Alabama</td>\n",
       "      <td>31</td>\n",
       "      <td>2/17/2019</td>\n",
       "      <td>3</td>\n",
       "      <td>married</td>\n",
       "      <td>40423</td>\n",
       "      <td>South</td>\n",
       "      <td>Normal activity customer</td>\n",
       "      <td>18-34 age group</td>\n",
       "      <td>Low income</td>\n",
       "    </tr>\n",
       "  </tbody>\n",
       "</table>\n",
       "<p>5 rows × 38 columns</p>\n",
       "</div>"
      ],
      "text/plain": [
       "   order_id  user_id  order_number  orders_day_of_week  order_hour_of_day  \\\n",
       "0   2539329        1             1                   2                  8   \n",
       "1   2398795        1             2                   3                  7   \n",
       "2    473747        1             3                   3                 12   \n",
       "3   2254736        1             4                   4                  7   \n",
       "4    431534        1             5                   4                 15   \n",
       "\n",
       "   days_since_prior_order  new_customer  product_id  add_to_cart_order  \\\n",
       "0                     NaN          True       196.0                1.0   \n",
       "1                    15.0         False       196.0                1.0   \n",
       "2                    21.0         False       196.0                1.0   \n",
       "3                    29.0         False       196.0                1.0   \n",
       "4                    28.0         False       196.0                1.0   \n",
       "\n",
       "   reordered  ...    state age  date_joined  dependants  family_status income  \\\n",
       "0        0.0  ...  Alabama  31    2/17/2019           3        married  40423   \n",
       "1        1.0  ...  Alabama  31    2/17/2019           3        married  40423   \n",
       "2        1.0  ...  Alabama  31    2/17/2019           3        married  40423   \n",
       "3        1.0  ...  Alabama  31    2/17/2019           3        married  40423   \n",
       "4        1.0  ...  Alabama  31    2/17/2019           3        married  40423   \n",
       "\n",
       "  region            exclusion_flag        age_group  income_range  \n",
       "0  South  Normal activity customer  18-34 age group    Low income  \n",
       "1  South  Normal activity customer  18-34 age group    Low income  \n",
       "2  South  Normal activity customer  18-34 age group    Low income  \n",
       "3  South  Normal activity customer  18-34 age group    Low income  \n",
       "4  South  Normal activity customer  18-34 age group    Low income  \n",
       "\n",
       "[5 rows x 38 columns]"
      ]
     },
     "execution_count": 47,
     "metadata": {},
     "output_type": "execute_result"
    }
   ],
   "source": [
    "df_ord_prods_cust.head()"
   ]
  },
  {
   "cell_type": "code",
   "execution_count": 48,
   "id": "9fb1fb26",
   "metadata": {},
   "outputs": [
    {
     "data": {
      "text/plain": [
       "married                             22756753\n",
       "single                               5325691\n",
       "divorced/widowed                     2771812\n",
       "living with parents and siblings     1550603\n",
       "Name: family_status, dtype: int64"
      ]
     },
     "execution_count": 48,
     "metadata": {},
     "output_type": "execute_result"
    }
   ],
   "source": [
    "# Counting family status\n",
    "df_ord_prods_cust['family_status'].value_counts(dropna = False)"
   ]
  },
  {
   "cell_type": "code",
   "execution_count": 49,
   "id": "3c37d831",
   "metadata": {},
   "outputs": [],
   "source": [
    "# Calculation of percentage\n",
    "married = 22756753 / (22756753+5325691+2771812+1550603)*100                            "
   ]
  },
  {
   "cell_type": "code",
   "execution_count": 50,
   "id": "1dc7b04a",
   "metadata": {},
   "outputs": [],
   "source": [
    "# Calculation of percentage\n",
    "single  = 5325691 / (22756753+5325691+2771812+1550603)*100                              "
   ]
  },
  {
   "cell_type": "code",
   "execution_count": 51,
   "id": "851c0b09",
   "metadata": {},
   "outputs": [],
   "source": [
    "# Calculation of percentage\n",
    "divorced_widowed = 2771812 / (22756753+5325691+2771812+1550603)*100 "
   ]
  },
  {
   "cell_type": "code",
   "execution_count": 52,
   "id": "00627d72",
   "metadata": {},
   "outputs": [],
   "source": [
    "# Calculation of percentage\n",
    "living_with_parents_and_siblings  = 1550603 / (22756753+5325691+2771812+1550603)*100 "
   ]
  },
  {
   "cell_type": "code",
   "execution_count": 53,
   "id": "d2977e2c",
   "metadata": {
    "scrolled": true
   },
   "outputs": [
    {
     "data": {
      "image/png": "[encoded data removed]",
      "text/plain": [
       "<Figure size 432x288 with 1 Axes>"
      ]
     },
     "metadata": {},
     "output_type": "display_data"
    }
   ],
   "source": [
    "family_status = df_ord_prods_cust['family_status'].value_counts().plot.pie(autopct = '%1.1f%%')"
   ]
  },
  {
   "cell_type": "code",
   "execution_count": 54,
   "id": "2f0cdef1",
   "metadata": {},
   "outputs": [],
   "source": [
    "# Exporting visualization\n",
    "family_status.figure.savefig(os.path.join(path, '04 Analysis','Visualizations', 'family_status.png'), bbox_inches=\"tight\")"
   ]
  },
  {
   "cell_type": "markdown",
   "id": "e7bc5ff8",
   "metadata": {},
   "source": [
    "### --------------------------------------- FAMILY STATUS/INCOME RANGE----------------------------------------"
   ]
  },
  {
   "cell_type": "code",
   "execution_count": 55,
   "id": "d880af91",
   "metadata": {},
   "outputs": [],
   "source": [
    "# Checking income range by family status\n",
    "crosstab_fs = pd.crosstab(df_ord_prods_cust['family_status'], df_ord_prods_cust['income_range'], dropna = False )"
   ]
  },
  {
   "cell_type": "code",
   "execution_count": 56,
   "id": "2dbb0804",
   "metadata": {},
   "outputs": [
    {
     "data": {
      "text/html": [
       "<div>\n",
       "<style scoped>\n",
       "    .dataframe tbody tr th:only-of-type {\n",
       "        vertical-align: middle;\n",
       "    }\n",
       "\n",
       "    .dataframe tbody tr th {\n",
       "        vertical-align: top;\n",
       "    }\n",
       "\n",
       "    .dataframe thead th {\n",
       "        text-align: right;\n",
       "    }\n",
       "</style>\n",
       "<table border=\"1\" class=\"dataframe\">\n",
       "  <thead>\n",
       "    <tr style=\"text-align: right;\">\n",
       "      <th>income_range</th>\n",
       "      <th>High income</th>\n",
       "      <th>Highest income</th>\n",
       "      <th>Low income</th>\n",
       "      <th>Middle class</th>\n",
       "      <th>Upper middle class</th>\n",
       "    </tr>\n",
       "    <tr>\n",
       "      <th>family_status</th>\n",
       "      <th></th>\n",
       "      <th></th>\n",
       "      <th></th>\n",
       "      <th></th>\n",
       "      <th></th>\n",
       "    </tr>\n",
       "  </thead>\n",
       "  <tbody>\n",
       "    <tr>\n",
       "      <th>divorced/widowed</th>\n",
       "      <td>509384</td>\n",
       "      <td>24742</td>\n",
       "      <td>169205</td>\n",
       "      <td>1833590</td>\n",
       "      <td>234891</td>\n",
       "    </tr>\n",
       "    <tr>\n",
       "      <th>living with parents and siblings</th>\n",
       "      <td>10961</td>\n",
       "      <td>4175</td>\n",
       "      <td>178982</td>\n",
       "      <td>1354683</td>\n",
       "      <td>1802</td>\n",
       "    </tr>\n",
       "    <tr>\n",
       "      <th>married</th>\n",
       "      <td>2812284</td>\n",
       "      <td>188737</td>\n",
       "      <td>1847753</td>\n",
       "      <td>16539624</td>\n",
       "      <td>1368355</td>\n",
       "    </tr>\n",
       "    <tr>\n",
       "      <th>single</th>\n",
       "      <td>460509</td>\n",
       "      <td>40789</td>\n",
       "      <td>498956</td>\n",
       "      <td>4106025</td>\n",
       "      <td>219412</td>\n",
       "    </tr>\n",
       "  </tbody>\n",
       "</table>\n",
       "</div>"
      ],
      "text/plain": [
       "income_range                      High income  Highest income  Low income  \\\n",
       "family_status                                                               \n",
       "divorced/widowed                       509384           24742      169205   \n",
       "living with parents and siblings        10961            4175      178982   \n",
       "married                               2812284          188737     1847753   \n",
       "single                                 460509           40789      498956   \n",
       "\n",
       "income_range                      Middle class  Upper middle class  \n",
       "family_status                                                       \n",
       "divorced/widowed                       1833590              234891  \n",
       "living with parents and siblings       1354683                1802  \n",
       "married                               16539624             1368355  \n",
       "single                                 4106025              219412  "
      ]
     },
     "execution_count": 56,
     "metadata": {},
     "output_type": "execute_result"
    }
   ],
   "source": [
    "crosstab_fs.head()"
   ]
  },
  {
   "cell_type": "code",
   "execution_count": 57,
   "id": "0e5ab857",
   "metadata": {
    "scrolled": true
   },
   "outputs": [
    {
     "data": {
      "image/png": "[encoded data removed]",
      "text/plain": [
       "<Figure size 432x288 with 1 Axes>"
      ]
     },
     "metadata": {
      "needs_background": "light"
     },
     "output_type": "display_data"
    }
   ],
   "source": [
    "crosstab_fse = crosstab_fs.plot(kind = 'bar', stacked = True)"
   ]
  },
  {
   "cell_type": "code",
   "execution_count": 58,
   "id": "5f3d573f",
   "metadata": {},
   "outputs": [],
   "source": [
    "# Exporting visualization\n",
    "crosstab_fse.figure.savefig(os.path.join(path, '04 Analysis','Visualizations', 'crosstab_fse.png'), bbox_inches=\"tight\")"
   ]
  },
  {
   "cell_type": "markdown",
   "id": "37fab4db",
   "metadata": {},
   "source": [
    "### -----------------------------------------GOODS------------------------------------------"
   ]
  },
  {
   "cell_type": "code",
   "execution_count": 59,
   "id": "38406f50",
   "metadata": {
    "scrolled": true
   },
   "outputs": [
    {
     "data": {
      "text/plain": [
       "Banana                                                    472565\n",
       "Bag of Organic Bananas                                    379450\n",
       "Organic Strawberries                                      264683\n",
       "Organic Baby Spinach                                      241921\n",
       "Organic Hass Avocado                                      213584\n",
       "                                                           ...  \n",
       "Deep Clean Cleanser & Mask                                     1\n",
       "Glycerine Soap Cucumber                                        1\n",
       "Pure Performance Restorative Shampoo Chamomile & Honey         1\n",
       "Gluten Free Almond Snap Cookies                                1\n",
       "Indian Wells Merlot                                            1\n",
       "Name: product_name, Length: 49661, dtype: int64"
      ]
     },
     "execution_count": 59,
     "metadata": {},
     "output_type": "execute_result"
    }
   ],
   "source": [
    "df_ord_prods_cust['product_name'].value_counts(dropna = False)"
   ]
  },
  {
   "cell_type": "code",
   "execution_count": 60,
   "id": "5477b657",
   "metadata": {},
   "outputs": [],
   "source": [
    "# Create goods profile list\n",
    "goods_profile = []\n",
    "\n",
    "for value in df_ord_prods_cust['department_id']:\n",
    "    if value == 1:\n",
    "        goods_profile.append('Frozen')\n",
    "    elif value == 2:\n",
    "        goods_profile.append('Other')\n",
    "    elif value == 3:\n",
    "        goods_profile.append('Bakery')\n",
    "    elif value == 4:\n",
    "        goods_profile.append('Produce')\n",
    "    elif value == 5:\n",
    "        goods_profile.append('Alcohol')\n",
    "    elif value == 6:\n",
    "        goods_profile.append('International')\n",
    "    elif value == 7:\n",
    "        goods_profile.append('Beverages')\n",
    "    elif value == 8:\n",
    "        goods_profile.append('Pets')\n",
    "    elif value == 9:\n",
    "        goods_profile.append('Dry goods pasta')\n",
    "    elif value == 10:\n",
    "        goods_profile.append('Bulk')\n",
    "    elif value == 11:\n",
    "        goods_profile.append('Personal care')\n",
    "    elif value == 12:\n",
    "        goods_profile.append('Meat seafood')\n",
    "    elif value == 13:\n",
    "        goods_profile.append('Pantry')\n",
    "    elif value == 14:\n",
    "        goods_profile.append('Breakfast')\n",
    "    elif value == 15:\n",
    "        goods_profile.append('Canned goods')\n",
    "    elif value == 16:\n",
    "        goods_profile.append('Dairy eggs')\n",
    "    elif value == 17:\n",
    "        goods_profile.append('Household')\n",
    "    elif value == 18:\n",
    "        goods_profile.append('Babies')\n",
    "    elif value == 19:\n",
    "        goods_profile.append('Snacks')\n",
    "    elif value == 20:\n",
    "        goods_profile.append('Deli')\n",
    "    elif value == 21:\n",
    "        goods_profile.append('Missing')"
   ]
  },
  {
   "cell_type": "code",
   "execution_count": 61,
   "id": "95533d80",
   "metadata": {},
   "outputs": [],
   "source": [
    "# Applying the funtion\n",
    "df_ord_prods_cust['goods_profile'] = goods_profile"
   ]
  },
  {
   "cell_type": "code",
   "execution_count": 62,
   "id": "d7d0c149",
   "metadata": {
    "scrolled": true
   },
   "outputs": [
    {
     "data": {
      "text/plain": [
       "Produce            9479291\n",
       "Dairy eggs         5398747\n",
       "Snacks             2887550\n",
       "Beverages          2688123\n",
       "Frozen             2234743\n",
       "Pantry             1875369\n",
       "Bakery             1172428\n",
       "Canned goods       1068058\n",
       "Deli               1051249\n",
       "Dry goods pasta     866627\n",
       "Household           738666\n",
       "Meat seafood        708927\n",
       "Breakfast           703033\n",
       "Personal care       447572\n",
       "Babies              423802\n",
       "International       269253\n",
       "Alcohol             153696\n",
       "Pets                 97716\n",
       "Missing              69145\n",
       "Other                36291\n",
       "Bulk                 34573\n",
       "Name: goods_profile, dtype: int64"
      ]
     },
     "execution_count": 62,
     "metadata": {},
     "output_type": "execute_result"
    }
   ],
   "source": [
    "df_ord_prods_cust['goods_profile'].value_counts()"
   ]
  },
  {
   "cell_type": "code",
   "execution_count": 147,
   "id": "ab0100c2",
   "metadata": {
    "scrolled": false
   },
   "outputs": [
    {
     "data": {
      "image/png": "[encoded data removed]",
      "text/plain": [
       "<Figure size 432x288 with 1 Axes>"
      ]
     },
     "metadata": {
      "needs_background": "light"
     },
     "output_type": "display_data"
    }
   ],
   "source": [
    "bar_goods_profile = df_ord_prods_cust['goods_profile'].value_counts().plot.bar(ylabel = 'Count (millions)', color = 'green')"
   ]
  },
  {
   "cell_type": "code",
   "execution_count": 148,
   "id": "4f4b6670",
   "metadata": {},
   "outputs": [],
   "source": [
    "# Exporting visualization\n",
    "bar_goods_profile.figure.savefig(os.path.join(path, '04 Analysis','Visualizations', 'bar_goods_profile.png'), bbox_inches=\"tight\")"
   ]
  },
  {
   "cell_type": "code",
   "execution_count": 204,
   "id": "9da031f9",
   "metadata": {},
   "outputs": [],
   "source": [
    "crosstab_gf_ff = pd.crosstab(df_ord_prods_cust['goods_profile'], df_ord_prods_cust['frequency_flag'], dropna = False )"
   ]
  },
  {
   "cell_type": "code",
   "execution_count": 205,
   "id": "5e9097d4",
   "metadata": {
    "scrolled": true
   },
   "outputs": [
    {
     "data": {
      "image/png": "[encoded data removed]",
      "text/plain": [
       "<Figure size 432x288 with 1 Axes>"
      ]
     },
     "metadata": {
      "needs_background": "light"
     },
     "output_type": "display_data"
    }
   ],
   "source": [
    "crosstab_gf_ff = crosstab_gf_ff.plot(kind = 'line', stacked = True)"
   ]
  },
  {
   "cell_type": "code",
   "execution_count": 206,
   "id": "c3206057",
   "metadata": {},
   "outputs": [],
   "source": [
    "crosstab_gf_ff.figure.savefig(os.path.join(path, '04 Analysis','Visualizations', 'crosstab_gf_ff.png'), bbox_inches=\"tight\")"
   ]
  },
  {
   "cell_type": "code",
   "execution_count": 150,
   "id": "73c8efcf",
   "metadata": {},
   "outputs": [],
   "source": [
    "# Checking price range by frequency\n",
    "crosstab_goods = pd.crosstab(df_ord_prods_cust['frequency_flag'], df_ord_prods_cust['price_range_loc'], dropna = False )"
   ]
  },
  {
   "cell_type": "code",
   "execution_count": 151,
   "id": "3e8ab582",
   "metadata": {
    "scrolled": true
   },
   "outputs": [
    {
     "data": {
      "image/png": "[encoded data removed]",
      "text/plain": [
       "<Figure size 432x288 with 1 Axes>"
      ]
     },
     "metadata": {
      "needs_background": "light"
     },
     "output_type": "display_data"
    }
   ],
   "source": [
    "crosstab_goods = crosstab_goods.plot(kind = 'line', stacked = True)"
   ]
  },
  {
   "cell_type": "code",
   "execution_count": 71,
   "id": "d573bc33",
   "metadata": {},
   "outputs": [],
   "source": [
    "# Exporting visualization\n",
    "crosstab_goods.figure.savefig(os.path.join(path, '04 Analysis','Visualizations', 'crosstab_goods.png'))"
   ]
  },
  {
   "cell_type": "markdown",
   "id": "535750b0",
   "metadata": {},
   "source": [
    "  ### ------------------------------DEPENDANTS-------------------------------------------"
   ]
  },
  {
   "cell_type": "code",
   "execution_count": 72,
   "id": "9ea722af",
   "metadata": {},
   "outputs": [
    {
     "data": {
      "text/plain": [
       "3    8135109\n",
       "0    8097503\n",
       "2    8091143\n",
       "1    8081104\n",
       "Name: dependants, dtype: int64"
      ]
     },
     "execution_count": 72,
     "metadata": {},
     "output_type": "execute_result"
    }
   ],
   "source": [
    "# Counting dependants\n",
    "df_ord_prods_cust['dependants'].value_counts(dropna = False)"
   ]
  },
  {
   "cell_type": "code",
   "execution_count": 73,
   "id": "626ec5fb",
   "metadata": {},
   "outputs": [],
   "source": [
    "# checking income range by number of dependants \n",
    "crosstab_dep = pd.crosstab(df_ord_prods_cust['income_range'], df_ord_prods_cust['dependants'], dropna = False )"
   ]
  },
  {
   "cell_type": "code",
   "execution_count": 74,
   "id": "044aa353",
   "metadata": {},
   "outputs": [
    {
     "data": {
      "text/html": [
       "<div>\n",
       "<style scoped>\n",
       "    .dataframe tbody tr th:only-of-type {\n",
       "        vertical-align: middle;\n",
       "    }\n",
       "\n",
       "    .dataframe tbody tr th {\n",
       "        vertical-align: top;\n",
       "    }\n",
       "\n",
       "    .dataframe thead th {\n",
       "        text-align: right;\n",
       "    }\n",
       "</style>\n",
       "<table border=\"1\" class=\"dataframe\">\n",
       "  <thead>\n",
       "    <tr style=\"text-align: right;\">\n",
       "      <th>dependants</th>\n",
       "      <th>0</th>\n",
       "      <th>1</th>\n",
       "      <th>2</th>\n",
       "      <th>3</th>\n",
       "    </tr>\n",
       "    <tr>\n",
       "      <th>income_range</th>\n",
       "      <th></th>\n",
       "      <th></th>\n",
       "      <th></th>\n",
       "      <th></th>\n",
       "    </tr>\n",
       "  </thead>\n",
       "  <tbody>\n",
       "    <tr>\n",
       "      <th>High income</th>\n",
       "      <td>969893</td>\n",
       "      <td>945861</td>\n",
       "      <td>936419</td>\n",
       "      <td>940965</td>\n",
       "    </tr>\n",
       "    <tr>\n",
       "      <th>Highest income</th>\n",
       "      <td>65531</td>\n",
       "      <td>60132</td>\n",
       "      <td>70790</td>\n",
       "      <td>61990</td>\n",
       "    </tr>\n",
       "    <tr>\n",
       "      <th>Low income</th>\n",
       "      <td>668161</td>\n",
       "      <td>659525</td>\n",
       "      <td>690590</td>\n",
       "      <td>676620</td>\n",
       "    </tr>\n",
       "    <tr>\n",
       "      <th>Middle class</th>\n",
       "      <td>5939615</td>\n",
       "      <td>5950213</td>\n",
       "      <td>5953576</td>\n",
       "      <td>5990518</td>\n",
       "    </tr>\n",
       "    <tr>\n",
       "      <th>Upper middle class</th>\n",
       "      <td>454303</td>\n",
       "      <td>465373</td>\n",
       "      <td>439768</td>\n",
       "      <td>465016</td>\n",
       "    </tr>\n",
       "  </tbody>\n",
       "</table>\n",
       "</div>"
      ],
      "text/plain": [
       "dependants                0        1        2        3\n",
       "income_range                                          \n",
       "High income          969893   945861   936419   940965\n",
       "Highest income        65531    60132    70790    61990\n",
       "Low income           668161   659525   690590   676620\n",
       "Middle class        5939615  5950213  5953576  5990518\n",
       "Upper middle class   454303   465373   439768   465016"
      ]
     },
     "execution_count": 74,
     "metadata": {},
     "output_type": "execute_result"
    }
   ],
   "source": [
    "crosstab_dep"
   ]
  },
  {
   "cell_type": "code",
   "execution_count": 75,
   "id": "f1ca4f0c",
   "metadata": {
    "scrolled": true
   },
   "outputs": [
    {
     "data": {
      "image/png": "[encoded data removed]",
      "text/plain": [
       "<Figure size 432x288 with 1 Axes>"
      ]
     },
     "metadata": {
      "needs_background": "light"
     },
     "output_type": "display_data"
    }
   ],
   "source": [
    "crosstab_dep = crosstab_dep.plot(kind = 'bar', stacked = True)"
   ]
  },
  {
   "cell_type": "code",
   "execution_count": 153,
   "id": "a944dfad",
   "metadata": {},
   "outputs": [],
   "source": [
    "# Exporting visualization\n",
    "crosstab_dep.figure.savefig(os.path.join(path, '04 Analysis','Visualizations', 'crosstab_dep.png'))"
   ]
  },
  {
   "cell_type": "markdown",
   "id": "e2e1cfd0",
   "metadata": {},
   "source": [
    "### 6. Create an appropriate visualization to show the distribution of profiles."
   ]
  },
  {
   "cell_type": "code",
   "execution_count": 76,
   "id": "27147870",
   "metadata": {
    "scrolled": true
   },
   "outputs": [
    {
     "data": {
      "image/png": "[encoded data removed]",
      "text/plain": [
       "<Figure size 432x288 with 1 Axes>"
      ]
     },
     "metadata": {
      "needs_background": "light"
     },
     "output_type": "display_data"
    }
   ],
   "source": [
    "# Age group visualization\n",
    "bar_age_group = df_ord_prods_cust['age_group'].value_counts().sort_index().plot.bar()"
   ]
  },
  {
   "cell_type": "code",
   "execution_count": 77,
   "id": "ca31daa1",
   "metadata": {},
   "outputs": [],
   "source": [
    "bar_age_group.figure.savefig(os.path.join(path, '04 Analysis','Visualizations', 'bar_age_group.png'))"
   ]
  },
  {
   "cell_type": "code",
   "execution_count": 78,
   "id": "3b251ad4",
   "metadata": {
    "scrolled": true
   },
   "outputs": [
    {
     "data": {
      "image/png": "[encoded data removed]",
      "text/plain": [
       "<Figure size 432x288 with 1 Axes>"
      ]
     },
     "metadata": {
      "needs_background": "light"
     },
     "output_type": "display_data"
    }
   ],
   "source": [
    "# income range visualization\n",
    "bar_income_range = df_ord_prods_cust['income_range'].value_counts().sort_index().plot.bar(ylabel = 'Count (millions)')"
   ]
  },
  {
   "cell_type": "markdown",
   "id": "ab705cc3",
   "metadata": {},
   "source": [
    "### 7. Aggregate the max, mean, and min variables on a customer-profile level for usage frequency and expenditure."
   ]
  },
  {
   "cell_type": "code",
   "execution_count": 154,
   "id": "760a871b",
   "metadata": {},
   "outputs": [
    {
     "data": {
      "text/html": [
       "<div>\n",
       "<style scoped>\n",
       "    .dataframe tbody tr th:only-of-type {\n",
       "        vertical-align: middle;\n",
       "    }\n",
       "\n",
       "    .dataframe tbody tr th {\n",
       "        vertical-align: top;\n",
       "    }\n",
       "\n",
       "    .dataframe thead tr th {\n",
       "        text-align: left;\n",
       "    }\n",
       "\n",
       "    .dataframe thead tr:last-of-type th {\n",
       "        text-align: right;\n",
       "    }\n",
       "</style>\n",
       "<table border=\"1\" class=\"dataframe\">\n",
       "  <thead>\n",
       "    <tr>\n",
       "      <th></th>\n",
       "      <th colspan=\"3\" halign=\"left\">order_number</th>\n",
       "    </tr>\n",
       "    <tr>\n",
       "      <th></th>\n",
       "      <th>mean</th>\n",
       "      <th>min</th>\n",
       "      <th>max</th>\n",
       "    </tr>\n",
       "    <tr>\n",
       "      <th>income_range</th>\n",
       "      <th></th>\n",
       "      <th></th>\n",
       "      <th></th>\n",
       "    </tr>\n",
       "  </thead>\n",
       "  <tbody>\n",
       "    <tr>\n",
       "      <th>High income</th>\n",
       "      <td>17.313656</td>\n",
       "      <td>1</td>\n",
       "      <td>99</td>\n",
       "    </tr>\n",
       "    <tr>\n",
       "      <th>Highest income</th>\n",
       "      <td>19.731152</td>\n",
       "      <td>1</td>\n",
       "      <td>99</td>\n",
       "    </tr>\n",
       "    <tr>\n",
       "      <th>Low income</th>\n",
       "      <td>15.870704</td>\n",
       "      <td>1</td>\n",
       "      <td>99</td>\n",
       "    </tr>\n",
       "    <tr>\n",
       "      <th>Middle class</th>\n",
       "      <td>17.232468</td>\n",
       "      <td>1</td>\n",
       "      <td>99</td>\n",
       "    </tr>\n",
       "    <tr>\n",
       "      <th>Upper middle class</th>\n",
       "      <td>17.119757</td>\n",
       "      <td>1</td>\n",
       "      <td>99</td>\n",
       "    </tr>\n",
       "  </tbody>\n",
       "</table>\n",
       "</div>"
      ],
      "text/plain": [
       "                   order_number        \n",
       "                           mean min max\n",
       "income_range                           \n",
       "High income           17.313656   1  99\n",
       "Highest income        19.731152   1  99\n",
       "Low income            15.870704   1  99\n",
       "Middle class          17.232468   1  99\n",
       "Upper middle class    17.119757   1  99"
      ]
     },
     "execution_count": 154,
     "metadata": {},
     "output_type": "execute_result"
    }
   ],
   "source": [
    "# Order number by income range\n",
    "df_ord_prods_cust.groupby('income_range').agg({'order_number': ['mean', 'min', 'max']})"
   ]
  },
  {
   "cell_type": "code",
   "execution_count": 155,
   "id": "97e0af52",
   "metadata": {},
   "outputs": [
    {
     "data": {
      "text/html": [
       "<div>\n",
       "<style scoped>\n",
       "    .dataframe tbody tr th:only-of-type {\n",
       "        vertical-align: middle;\n",
       "    }\n",
       "\n",
       "    .dataframe tbody tr th {\n",
       "        vertical-align: top;\n",
       "    }\n",
       "\n",
       "    .dataframe thead tr th {\n",
       "        text-align: left;\n",
       "    }\n",
       "\n",
       "    .dataframe thead tr:last-of-type th {\n",
       "        text-align: right;\n",
       "    }\n",
       "</style>\n",
       "<table border=\"1\" class=\"dataframe\">\n",
       "  <thead>\n",
       "    <tr>\n",
       "      <th></th>\n",
       "      <th colspan=\"3\" halign=\"left\">order_number</th>\n",
       "    </tr>\n",
       "    <tr>\n",
       "      <th></th>\n",
       "      <th>mean</th>\n",
       "      <th>min</th>\n",
       "      <th>max</th>\n",
       "    </tr>\n",
       "    <tr>\n",
       "      <th>family_status</th>\n",
       "      <th></th>\n",
       "      <th></th>\n",
       "      <th></th>\n",
       "    </tr>\n",
       "  </thead>\n",
       "  <tbody>\n",
       "    <tr>\n",
       "      <th>divorced/widowed</th>\n",
       "      <td>17.275873</td>\n",
       "      <td>1</td>\n",
       "      <td>99</td>\n",
       "    </tr>\n",
       "    <tr>\n",
       "      <th>living with parents and siblings</th>\n",
       "      <td>17.296372</td>\n",
       "      <td>1</td>\n",
       "      <td>99</td>\n",
       "    </tr>\n",
       "    <tr>\n",
       "      <th>married</th>\n",
       "      <td>17.088283</td>\n",
       "      <td>1</td>\n",
       "      <td>99</td>\n",
       "    </tr>\n",
       "    <tr>\n",
       "      <th>single</th>\n",
       "      <td>17.258766</td>\n",
       "      <td>1</td>\n",
       "      <td>99</td>\n",
       "    </tr>\n",
       "  </tbody>\n",
       "</table>\n",
       "</div>"
      ],
      "text/plain": [
       "                                 order_number        \n",
       "                                         mean min max\n",
       "family_status                                        \n",
       "divorced/widowed                    17.275873   1  99\n",
       "living with parents and siblings    17.296372   1  99\n",
       "married                             17.088283   1  99\n",
       "single                              17.258766   1  99"
      ]
     },
     "execution_count": 155,
     "metadata": {},
     "output_type": "execute_result"
    }
   ],
   "source": [
    "# Order number by family status\n",
    "df_ord_prods_cust.groupby('family_status').agg({'order_number': ['mean', 'min', 'max']})"
   ]
  },
  {
   "cell_type": "code",
   "execution_count": 156,
   "id": "bc35c01d",
   "metadata": {},
   "outputs": [
    {
     "data": {
      "text/html": [
       "<div>\n",
       "<style scoped>\n",
       "    .dataframe tbody tr th:only-of-type {\n",
       "        vertical-align: middle;\n",
       "    }\n",
       "\n",
       "    .dataframe tbody tr th {\n",
       "        vertical-align: top;\n",
       "    }\n",
       "\n",
       "    .dataframe thead tr th {\n",
       "        text-align: left;\n",
       "    }\n",
       "\n",
       "    .dataframe thead tr:last-of-type th {\n",
       "        text-align: right;\n",
       "    }\n",
       "</style>\n",
       "<table border=\"1\" class=\"dataframe\">\n",
       "  <thead>\n",
       "    <tr>\n",
       "      <th></th>\n",
       "      <th colspan=\"3\" halign=\"left\">order_number</th>\n",
       "    </tr>\n",
       "    <tr>\n",
       "      <th></th>\n",
       "      <th>mean</th>\n",
       "      <th>min</th>\n",
       "      <th>max</th>\n",
       "    </tr>\n",
       "    <tr>\n",
       "      <th>age_group</th>\n",
       "      <th></th>\n",
       "      <th></th>\n",
       "      <th></th>\n",
       "    </tr>\n",
       "  </thead>\n",
       "  <tbody>\n",
       "    <tr>\n",
       "      <th>18-34 age group</th>\n",
       "      <td>17.126150</td>\n",
       "      <td>1</td>\n",
       "      <td>99</td>\n",
       "    </tr>\n",
       "    <tr>\n",
       "      <th>35-50 age group</th>\n",
       "      <td>17.234069</td>\n",
       "      <td>1</td>\n",
       "      <td>99</td>\n",
       "    </tr>\n",
       "    <tr>\n",
       "      <th>51-69 age group</th>\n",
       "      <td>17.142071</td>\n",
       "      <td>1</td>\n",
       "      <td>99</td>\n",
       "    </tr>\n",
       "    <tr>\n",
       "      <th>70-81 age group</th>\n",
       "      <td>17.068041</td>\n",
       "      <td>1</td>\n",
       "      <td>99</td>\n",
       "    </tr>\n",
       "  </tbody>\n",
       "</table>\n",
       "</div>"
      ],
      "text/plain": [
       "                order_number        \n",
       "                        mean min max\n",
       "age_group                           \n",
       "18-34 age group    17.126150   1  99\n",
       "35-50 age group    17.234069   1  99\n",
       "51-69 age group    17.142071   1  99\n",
       "70-81 age group    17.068041   1  99"
      ]
     },
     "execution_count": 156,
     "metadata": {},
     "output_type": "execute_result"
    }
   ],
   "source": [
    "# Order number by age group\n",
    "df_ord_prods_cust.groupby('age_group').agg({'order_number': ['mean', 'min', 'max']})"
   ]
  },
  {
   "cell_type": "markdown",
   "id": "a253b428",
   "metadata": {},
   "source": [
    "### 8. Compare your customer profiles with regions and departments. Can you identify a link between them? Customers may demonstrate different behaviors across regions, which could make this information important."
   ]
  },
  {
   "cell_type": "code",
   "execution_count": 165,
   "id": "2f7309f1",
   "metadata": {
    "scrolled": false
   },
   "outputs": [],
   "source": [
    "ct_region_fs= pd.crosstab(df_ord_prods_cust['region'], df_ord_prods_cust['family_status'], dropna = False )"
   ]
  },
  {
   "cell_type": "code",
   "execution_count": 169,
   "id": "05f0c427",
   "metadata": {},
   "outputs": [
    {
     "data": {
      "text/plain": [
       "<AxesSubplot:xlabel='region'>"
      ]
     },
     "execution_count": 169,
     "metadata": {},
     "output_type": "execute_result"
    }
   ],
   "source": [
    "ct_region_fs"
   ]
  },
  {
   "cell_type": "code",
   "execution_count": 166,
   "id": "d2f1ff36",
   "metadata": {
    "scrolled": true
   },
   "outputs": [
    {
     "data": {
      "image/png": "[encoded data removed]",
      "text/plain": [
       "<Figure size 432x288 with 1 Axes>"
      ]
     },
     "metadata": {
      "needs_background": "light"
     },
     "output_type": "display_data"
    }
   ],
   "source": [
    "ct_region_fs = ct_region_fs.plot(kind = 'bar', stacked = True)"
   ]
  },
  {
   "cell_type": "code",
   "execution_count": 177,
   "id": "ddd2b4d0",
   "metadata": {},
   "outputs": [],
   "source": [
    "ct_region_fs.figure.savefig(os.path.join(path, '04 Analysis','Visualizations', 'ct_region_fs.png'))"
   ]
  },
  {
   "cell_type": "code",
   "execution_count": 167,
   "id": "532b87eb",
   "metadata": {
    "scrolled": true
   },
   "outputs": [],
   "source": [
    "ct_region_ir = pd.crosstab(df_ord_prods_cust['income_range'], df_ord_prods_cust['region'], dropna = False )"
   ]
  },
  {
   "cell_type": "code",
   "execution_count": 170,
   "id": "2dc54bc7",
   "metadata": {},
   "outputs": [
    {
     "data": {
      "text/plain": [
       "<AxesSubplot:xlabel='income_range'>"
      ]
     },
     "execution_count": 170,
     "metadata": {},
     "output_type": "execute_result"
    }
   ],
   "source": [
    "ct_region_ir"
   ]
  },
  {
   "cell_type": "code",
   "execution_count": 168,
   "id": "1646ad2d",
   "metadata": {
    "scrolled": true
   },
   "outputs": [
    {
     "data": {
      "image/png": "[encoded data removed]",
      "text/plain": [
       "<Figure size 432x288 with 1 Axes>"
      ]
     },
     "metadata": {
      "needs_background": "light"
     },
     "output_type": "display_data"
    }
   ],
   "source": [
    "ct_region_ir = ct_region_ir.plot(kind = 'bar', stacked = True)"
   ]
  },
  {
   "cell_type": "code",
   "execution_count": 178,
   "id": "e7c499fe",
   "metadata": {},
   "outputs": [],
   "source": [
    "ct_region_ir.figure.savefig(os.path.join(path, '04 Analysis','Visualizations', 'ct_region_ir.png'))"
   ]
  },
  {
   "cell_type": "code",
   "execution_count": 175,
   "id": "0437cf76",
   "metadata": {},
   "outputs": [],
   "source": [
    "ct_region_department = pd.crosstab(df_ord_prods_cust['goods_profile'], df_ord_prods_cust['income_range'], dropna = False )"
   ]
  },
  {
   "cell_type": "code",
   "execution_count": 176,
   "id": "336d3145",
   "metadata": {},
   "outputs": [
    {
     "data": {
      "image/png": "[encoded data removed]",
      "text/plain": [
       "<Figure size 432x288 with 1 Axes>"
      ]
     },
     "metadata": {
      "needs_background": "light"
     },
     "output_type": "display_data"
    }
   ],
   "source": [
    "ct_region_department = ct_region_department.plot(kind = 'bar', stacked = True)"
   ]
  },
  {
   "cell_type": "code",
   "execution_count": 179,
   "id": "b219dca1",
   "metadata": {},
   "outputs": [],
   "source": [
    "ct_region_department.figure.savefig(os.path.join(path, '04 Analysis','Visualizations', 'ct_region_department.png'))"
   ]
  },
  {
   "cell_type": "code",
   "execution_count": null,
   "id": "7a1f3381",
   "metadata": {},
   "outputs": [],
   "source": []
  }
 ],
 "metadata": {
  "kernelspec": {
   "display_name": "Python 3 (ipykernel)",
   "language": "python",
   "name": "python3"
  },
  "language_info": {
   "codemirror_mode": {
    "name": "ipython",
    "version": 3
   },
   "file_extension": ".py",
   "mimetype": "text/x-python",
   "name": "python",
   "nbconvert_exporter": "python",
   "pygments_lexer": "ipython3",
   "version": "3.9.7"
  }
 },
 "nbformat": 4,
 "nbformat_minor": 5
}
