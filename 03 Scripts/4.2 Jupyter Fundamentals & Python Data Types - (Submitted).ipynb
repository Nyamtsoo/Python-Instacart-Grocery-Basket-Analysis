{
 "cells": [
  {
   "cell_type": "markdown",
   "id": "81ac2bae",
   "metadata": {},
   "source": [
    "# 01. Importing libraries"
   ]
  },
  {
   "cell_type": "code",
   "execution_count": 1,
   "id": "ba8d51ad",
   "metadata": {},
   "outputs": [],
   "source": [
    "# import libraries\n",
    "import pandas as pd\n",
    "import numpy as np\n",
    "import os"
   ]
  },
  {
   "cell_type": "markdown",
   "id": "fff02102",
   "metadata": {},
   "source": [
    "# 02. Data types"
   ]
  },
  {
   "cell_type": "markdown",
   "id": "b10ef9b1",
   "metadata": {},
   "source": [
    "# 02.1 Numeric variables"
   ]
  },
  {
   "cell_type": "code",
   "execution_count": 18,
   "id": "8b67094e",
   "metadata": {},
   "outputs": [],
   "source": [
    "x = 25"
   ]
  },
  {
   "cell_type": "code",
   "execution_count": 19,
   "id": "20898dba",
   "metadata": {},
   "outputs": [
    {
     "name": "stdout",
     "output_type": "stream",
     "text": [
      "100\n"
     ]
    }
   ],
   "source": [
    "print(x+75)"
   ]
  },
  {
   "cell_type": "code",
   "execution_count": 20,
   "id": "72cd0d79",
   "metadata": {},
   "outputs": [],
   "source": [
    "x = 350"
   ]
  },
  {
   "cell_type": "code",
   "execution_count": 21,
   "id": "e96ddcf6",
   "metadata": {},
   "outputs": [
    {
     "name": "stdout",
     "output_type": "stream",
     "text": [
      "100\n"
     ]
    }
   ],
   "source": [
    "print (x-250)"
   ]
  },
  {
   "cell_type": "code",
   "execution_count": 14,
   "id": "f7be8f3a",
   "metadata": {},
   "outputs": [],
   "source": [
    "x = 750"
   ]
  },
  {
   "cell_type": "code",
   "execution_count": 15,
   "id": "796f0374",
   "metadata": {},
   "outputs": [],
   "source": [
    "y = 650"
   ]
  },
  {
   "cell_type": "code",
   "execution_count": 16,
   "id": "7fc322a3",
   "metadata": {},
   "outputs": [
    {
     "name": "stdout",
     "output_type": "stream",
     "text": [
      "100\n"
     ]
    }
   ],
   "source": [
    "print (x-y)"
   ]
  },
  {
   "cell_type": "markdown",
   "id": "0ef0a90c",
   "metadata": {},
   "source": [
    "# 02.2 Floating-point variables"
   ]
  },
  {
   "cell_type": "code",
   "execution_count": 67,
   "id": "e8d32208",
   "metadata": {},
   "outputs": [],
   "source": [
    "x = 4.256"
   ]
  },
  {
   "cell_type": "code",
   "execution_count": 68,
   "id": "fa0e4c16",
   "metadata": {},
   "outputs": [],
   "source": [
    "y = 0.258"
   ]
  },
  {
   "cell_type": "code",
   "execution_count": 69,
   "id": "a9b2194f",
   "metadata": {},
   "outputs": [
    {
     "name": "stdout",
     "output_type": "stream",
     "text": [
      "4.514\n"
     ]
    }
   ],
   "source": [
    "print (x + y)"
   ]
  },
  {
   "cell_type": "code",
   "execution_count": 72,
   "id": "1ed904f7",
   "metadata": {},
   "outputs": [
    {
     "name": "stdout",
     "output_type": "stream",
     "text": [
      "16.496124031007753\n"
     ]
    }
   ],
   "source": [
    "print (x/y)"
   ]
  },
  {
   "cell_type": "code",
   "execution_count": 33,
   "id": "6b8ce016",
   "metadata": {},
   "outputs": [],
   "source": [
    "z = 5.2485"
   ]
  },
  {
   "cell_type": "code",
   "execution_count": 34,
   "id": "c7ed6b5a",
   "metadata": {},
   "outputs": [],
   "source": [
    "t = 1.252"
   ]
  },
  {
   "cell_type": "code",
   "execution_count": 35,
   "id": "36f46b51",
   "metadata": {},
   "outputs": [
    {
     "name": "stdout",
     "output_type": "stream",
     "text": [
      "0.2385443460036201\n"
     ]
    }
   ],
   "source": [
    "print (t/z)"
   ]
  },
  {
   "cell_type": "markdown",
   "id": "a544a24b",
   "metadata": {},
   "source": [
    "# 02.3 Strings variables"
   ]
  },
  {
   "cell_type": "code",
   "execution_count": 41,
   "id": "d6294dc1",
   "metadata": {},
   "outputs": [],
   "source": [
    "a = 'Red '"
   ]
  },
  {
   "cell_type": "code",
   "execution_count": 42,
   "id": "49cc3c00",
   "metadata": {},
   "outputs": [],
   "source": [
    "b = 'flowers'"
   ]
  },
  {
   "cell_type": "code",
   "execution_count": 43,
   "id": "7970863f",
   "metadata": {
    "scrolled": true
   },
   "outputs": [
    {
     "name": "stdout",
     "output_type": "stream",
     "text": [
      "Red flowers\n"
     ]
    }
   ],
   "source": [
    "print (a + b)"
   ]
  },
  {
   "cell_type": "code",
   "execution_count": 47,
   "id": "874ba45b",
   "metadata": {},
   "outputs": [],
   "source": [
    "a = 'Kids will feed the chicks. '"
   ]
  },
  {
   "cell_type": "code",
   "execution_count": 48,
   "id": "384b2834",
   "metadata": {},
   "outputs": [],
   "source": [
    "b = 'Mom will feed the kids'"
   ]
  },
  {
   "cell_type": "code",
   "execution_count": 50,
   "id": "2e23fee6",
   "metadata": {},
   "outputs": [
    {
     "name": "stdout",
     "output_type": "stream",
     "text": [
      "Kids will feed the chicks. Mom will feed the kids\n"
     ]
    }
   ],
   "source": [
    "print (a + b)"
   ]
  },
  {
   "cell_type": "code",
   "execution_count": 54,
   "id": "89b80194",
   "metadata": {},
   "outputs": [],
   "source": [
    "Farm = 'They are going to the farm. '"
   ]
  },
  {
   "cell_type": "code",
   "execution_count": 55,
   "id": "7e8c084b",
   "metadata": {},
   "outputs": [],
   "source": [
    "Cows = 'They want to see the cows'"
   ]
  },
  {
   "cell_type": "code",
   "execution_count": 56,
   "id": "72d1b1b9",
   "metadata": {},
   "outputs": [
    {
     "name": "stdout",
     "output_type": "stream",
     "text": [
      "They are going to the farm. They want to see the cows\n"
     ]
    }
   ],
   "source": [
    "print (Farm + Cows)"
   ]
  },
  {
   "cell_type": "code",
   "execution_count": null,
   "id": "9b493362",
   "metadata": {},
   "outputs": [],
   "source": []
  }
 ],
 "metadata": {
  "kernelspec": {
   "display_name": "Python 3 (ipykernel)",
   "language": "python",
   "name": "python3"
  },
  "language_info": {
   "codemirror_mode": {
    "name": "ipython",
    "version": 3
   },
   "file_extension": ".py",
   "mimetype": "text/x-python",
   "name": "python",
   "nbconvert_exporter": "python",
   "pygments_lexer": "ipython3",
   "version": "3.9.7"
  }
 },
 "nbformat": 4,
 "nbformat_minor": 5
}
