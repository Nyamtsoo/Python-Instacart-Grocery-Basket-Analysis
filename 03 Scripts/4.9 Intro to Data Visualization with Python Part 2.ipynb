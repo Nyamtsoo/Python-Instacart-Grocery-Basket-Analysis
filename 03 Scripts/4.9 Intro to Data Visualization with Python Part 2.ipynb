{
 "cells": [
  {
   "cell_type": "markdown",
   "id": "c5f769d0",
   "metadata": {},
   "source": [
    "### 1. Create a new notebook, import the necessary analysis and visualization libraries, then import your most up-to-date project data (i.e., the data set with your new customer data from the first part of this task)."
   ]
  },
  {
   "cell_type": "code",
   "execution_count": 1,
   "id": "daa909bf",
   "metadata": {},
   "outputs": [],
   "source": [
    "# importing libraries\n",
    "import pandas as pd\n",
    "import numpy as np\n",
    "import os\n",
    "import matplotlib.pyplot as plt\n",
    "import seaborn as sns\n",
    "import scipy"
   ]
  },
  {
   "cell_type": "code",
   "execution_count": 2,
   "id": "4a196be0",
   "metadata": {},
   "outputs": [],
   "source": [
    "path = r'C:\\Users\\jnyam\\Documents\\Instacart Basket Analysis'"
   ]
  },
  {
   "cell_type": "code",
   "execution_count": 3,
   "id": "76db2dbb",
   "metadata": {},
   "outputs": [],
   "source": [
    "df_ord_prods_cust = pd.read_pickle(os.path.join(path, '02 Data','Prepared Data', 'ord_prods_cust_9.1.pkl'))"
   ]
  },
  {
   "cell_type": "markdown",
   "id": "7c8fd6d7",
   "metadata": {},
   "source": [
    "### 2. If you haven’t done so already, follow the instructions in the Exercise to create a bar chart, a histogram, a scatterplot, and a line chart, using a sample subset for the line chart."
   ]
  },
  {
   "cell_type": "code",
   "execution_count": 4,
   "id": "4483f27c",
   "metadata": {},
   "outputs": [
    {
     "data": {
      "text/html": [
       "<div>\n",
       "<style scoped>\n",
       "    .dataframe tbody tr th:only-of-type {\n",
       "        vertical-align: middle;\n",
       "    }\n",
       "\n",
       "    .dataframe tbody tr th {\n",
       "        vertical-align: top;\n",
       "    }\n",
       "\n",
       "    .dataframe thead th {\n",
       "        text-align: right;\n",
       "    }\n",
       "</style>\n",
       "<table border=\"1\" class=\"dataframe\">\n",
       "  <thead>\n",
       "    <tr style=\"text-align: right;\">\n",
       "      <th></th>\n",
       "      <th>order_id</th>\n",
       "      <th>user_id</th>\n",
       "      <th>order_number</th>\n",
       "      <th>orders_day_of_week</th>\n",
       "      <th>order_hour_of_day</th>\n",
       "      <th>days_since_prior_order</th>\n",
       "      <th>new_customer</th>\n",
       "      <th>product_id</th>\n",
       "      <th>add_to_cart_order</th>\n",
       "      <th>reordered</th>\n",
       "      <th>...</th>\n",
       "      <th>frequency_flag</th>\n",
       "      <th>first_name</th>\n",
       "      <th>last_name</th>\n",
       "      <th>gender</th>\n",
       "      <th>state</th>\n",
       "      <th>age</th>\n",
       "      <th>date_joined</th>\n",
       "      <th>dependants</th>\n",
       "      <th>family_status</th>\n",
       "      <th>income</th>\n",
       "    </tr>\n",
       "  </thead>\n",
       "  <tbody>\n",
       "    <tr>\n",
       "      <th>0</th>\n",
       "      <td>2539329</td>\n",
       "      <td>1</td>\n",
       "      <td>1</td>\n",
       "      <td>2</td>\n",
       "      <td>8</td>\n",
       "      <td>NaN</td>\n",
       "      <td>True</td>\n",
       "      <td>196.0</td>\n",
       "      <td>1.0</td>\n",
       "      <td>0.0</td>\n",
       "      <td>...</td>\n",
       "      <td>Non-frequent customer</td>\n",
       "      <td>Linda</td>\n",
       "      <td>Nguyen</td>\n",
       "      <td>Female</td>\n",
       "      <td>Alabama</td>\n",
       "      <td>31</td>\n",
       "      <td>2/17/2019</td>\n",
       "      <td>3</td>\n",
       "      <td>married</td>\n",
       "      <td>40423</td>\n",
       "    </tr>\n",
       "    <tr>\n",
       "      <th>1</th>\n",
       "      <td>2398795</td>\n",
       "      <td>1</td>\n",
       "      <td>2</td>\n",
       "      <td>3</td>\n",
       "      <td>7</td>\n",
       "      <td>15.0</td>\n",
       "      <td>False</td>\n",
       "      <td>196.0</td>\n",
       "      <td>1.0</td>\n",
       "      <td>1.0</td>\n",
       "      <td>...</td>\n",
       "      <td>Non-frequent customer</td>\n",
       "      <td>Linda</td>\n",
       "      <td>Nguyen</td>\n",
       "      <td>Female</td>\n",
       "      <td>Alabama</td>\n",
       "      <td>31</td>\n",
       "      <td>2/17/2019</td>\n",
       "      <td>3</td>\n",
       "      <td>married</td>\n",
       "      <td>40423</td>\n",
       "    </tr>\n",
       "    <tr>\n",
       "      <th>2</th>\n",
       "      <td>473747</td>\n",
       "      <td>1</td>\n",
       "      <td>3</td>\n",
       "      <td>3</td>\n",
       "      <td>12</td>\n",
       "      <td>21.0</td>\n",
       "      <td>False</td>\n",
       "      <td>196.0</td>\n",
       "      <td>1.0</td>\n",
       "      <td>1.0</td>\n",
       "      <td>...</td>\n",
       "      <td>Non-frequent customer</td>\n",
       "      <td>Linda</td>\n",
       "      <td>Nguyen</td>\n",
       "      <td>Female</td>\n",
       "      <td>Alabama</td>\n",
       "      <td>31</td>\n",
       "      <td>2/17/2019</td>\n",
       "      <td>3</td>\n",
       "      <td>married</td>\n",
       "      <td>40423</td>\n",
       "    </tr>\n",
       "    <tr>\n",
       "      <th>3</th>\n",
       "      <td>2254736</td>\n",
       "      <td>1</td>\n",
       "      <td>4</td>\n",
       "      <td>4</td>\n",
       "      <td>7</td>\n",
       "      <td>29.0</td>\n",
       "      <td>False</td>\n",
       "      <td>196.0</td>\n",
       "      <td>1.0</td>\n",
       "      <td>1.0</td>\n",
       "      <td>...</td>\n",
       "      <td>Non-frequent customer</td>\n",
       "      <td>Linda</td>\n",
       "      <td>Nguyen</td>\n",
       "      <td>Female</td>\n",
       "      <td>Alabama</td>\n",
       "      <td>31</td>\n",
       "      <td>2/17/2019</td>\n",
       "      <td>3</td>\n",
       "      <td>married</td>\n",
       "      <td>40423</td>\n",
       "    </tr>\n",
       "    <tr>\n",
       "      <th>4</th>\n",
       "      <td>431534</td>\n",
       "      <td>1</td>\n",
       "      <td>5</td>\n",
       "      <td>4</td>\n",
       "      <td>15</td>\n",
       "      <td>28.0</td>\n",
       "      <td>False</td>\n",
       "      <td>196.0</td>\n",
       "      <td>1.0</td>\n",
       "      <td>1.0</td>\n",
       "      <td>...</td>\n",
       "      <td>Non-frequent customer</td>\n",
       "      <td>Linda</td>\n",
       "      <td>Nguyen</td>\n",
       "      <td>Female</td>\n",
       "      <td>Alabama</td>\n",
       "      <td>31</td>\n",
       "      <td>2/17/2019</td>\n",
       "      <td>3</td>\n",
       "      <td>married</td>\n",
       "      <td>40423</td>\n",
       "    </tr>\n",
       "  </tbody>\n",
       "</table>\n",
       "<p>5 rows × 34 columns</p>\n",
       "</div>"
      ],
      "text/plain": [
       "   order_id  user_id  order_number  orders_day_of_week  order_hour_of_day  \\\n",
       "0   2539329        1             1                   2                  8   \n",
       "1   2398795        1             2                   3                  7   \n",
       "2    473747        1             3                   3                 12   \n",
       "3   2254736        1             4                   4                  7   \n",
       "4    431534        1             5                   4                 15   \n",
       "\n",
       "   days_since_prior_order  new_customer  product_id  add_to_cart_order  \\\n",
       "0                     NaN          True       196.0                1.0   \n",
       "1                    15.0         False       196.0                1.0   \n",
       "2                    21.0         False       196.0                1.0   \n",
       "3                    29.0         False       196.0                1.0   \n",
       "4                    28.0         False       196.0                1.0   \n",
       "\n",
       "   reordered  ...         frequency_flag first_name  last_name  gender  \\\n",
       "0        0.0  ...  Non-frequent customer      Linda     Nguyen  Female   \n",
       "1        1.0  ...  Non-frequent customer      Linda     Nguyen  Female   \n",
       "2        1.0  ...  Non-frequent customer      Linda     Nguyen  Female   \n",
       "3        1.0  ...  Non-frequent customer      Linda     Nguyen  Female   \n",
       "4        1.0  ...  Non-frequent customer      Linda     Nguyen  Female   \n",
       "\n",
       "     state age date_joined dependants family_status  income  \n",
       "0  Alabama  31   2/17/2019          3       married   40423  \n",
       "1  Alabama  31   2/17/2019          3       married   40423  \n",
       "2  Alabama  31   2/17/2019          3       married   40423  \n",
       "3  Alabama  31   2/17/2019          3       married   40423  \n",
       "4  Alabama  31   2/17/2019          3       married   40423  \n",
       "\n",
       "[5 rows x 34 columns]"
      ]
     },
     "execution_count": 4,
     "metadata": {},
     "output_type": "execute_result"
    }
   ],
   "source": [
    "df_ord_prods_cust.head()"
   ]
  },
  {
   "cell_type": "markdown",
   "id": "3270fcd8",
   "metadata": {},
   "source": [
    "### Bar charts"
   ]
  },
  {
   "cell_type": "code",
   "execution_count": 5,
   "id": "02eff2aa",
   "metadata": {
    "scrolled": false
   },
   "outputs": [
    {
     "data": {
      "image/png": "[encoded data removed]",
      "text/plain": [
       "<Figure size 432x288 with 1 Axes>"
      ]
     },
     "metadata": {
      "needs_background": "light"
     },
     "output_type": "display_data"
    }
   ],
   "source": [
    "Orders_day_of_week = df_ord_prods_cust['orders_day_of_week'].value_counts().sort_index().plot.bar() "
   ]
  },
  {
   "cell_type": "code",
   "execution_count": 6,
   "id": "265ce19b",
   "metadata": {},
   "outputs": [],
   "source": [
    "# Exporting bar chart\n",
    "Orders_day_of_week.figure.savefig(os.path.join(path, '04 Analysis','Visualizations', 'Orders_day_of_week.png'))"
   ]
  },
  {
   "cell_type": "code",
   "execution_count": 7,
   "id": "737ba5f0",
   "metadata": {
    "scrolled": false
   },
   "outputs": [
    {
     "data": {
      "image/png": "[encoded data removed]",
      "text/plain": [
       "<Figure size 432x288 with 1 Axes>"
      ]
     },
     "metadata": {
      "needs_background": "light"
     },
     "output_type": "display_data"
    }
   ],
   "source": [
    "order_hour_of_day = df_ord_prods_cust['order_hour_of_day'].value_counts().plot.bar()"
   ]
  },
  {
   "cell_type": "code",
   "execution_count": 8,
   "id": "14209ec3",
   "metadata": {},
   "outputs": [],
   "source": [
    "# Exporting bar chart\n",
    "order_hour_of_day.figure.savefig(os.path.join(path, '04 Analysis','Visualizations', 'order_hour_of_day.png'))"
   ]
  },
  {
   "cell_type": "code",
   "execution_count": 9,
   "id": "00eca349",
   "metadata": {},
   "outputs": [
    {
     "data": {
      "image/png": "[encoded data removed]",
      "text/plain": [
       "<Figure size 432x288 with 1 Axes>"
      ]
     },
     "metadata": {
      "needs_background": "light"
     },
     "output_type": "display_data"
    }
   ],
   "source": [
    "hist = df_ord_prods_cust['prices'].plot.hist(bins = 25)"
   ]
  },
  {
   "cell_type": "code",
   "execution_count": 10,
   "id": "fe3084d8",
   "metadata": {
    "scrolled": true
   },
   "outputs": [
    {
     "data": {
      "text/plain": [
       "count    3.240486e+07\n",
       "mean     1.198023e+01\n",
       "std      4.956554e+02\n",
       "min      1.000000e+00\n",
       "25%      4.200000e+00\n",
       "50%      7.400000e+00\n",
       "75%      1.130000e+01\n",
       "max      9.999900e+04\n",
       "Name: prices, dtype: float64"
      ]
     },
     "execution_count": 10,
     "metadata": {},
     "output_type": "execute_result"
    }
   ],
   "source": [
    "df_ord_prods_cust['prices'].describe()"
   ]
  },
  {
   "cell_type": "code",
   "execution_count": 11,
   "id": "61166c8b",
   "metadata": {},
   "outputs": [
    {
     "data": {
      "text/plain": [
       "<AxesSubplot:xlabel='prices', ylabel='prices'>"
      ]
     },
     "execution_count": 11,
     "metadata": {},
     "output_type": "execute_result"
    },
    {
     "data": {
      "image/png": "[encoded data removed]",
      "text/plain": [
       "<Figure size 432x288 with 1 Axes>"
      ]
     },
     "metadata": {
      "needs_background": "light"
     },
     "output_type": "display_data"
    }
   ],
   "source": [
    "sns.scatterplot(x = 'prices', y = 'prices',data = df_ord_prods_cust)"
   ]
  },
  {
   "cell_type": "code",
   "execution_count": 12,
   "id": "06fe7257",
   "metadata": {},
   "outputs": [
    {
     "data": {
      "text/html": [
       "<div>\n",
       "<style scoped>\n",
       "    .dataframe tbody tr th:only-of-type {\n",
       "        vertical-align: middle;\n",
       "    }\n",
       "\n",
       "    .dataframe tbody tr th {\n",
       "        vertical-align: top;\n",
       "    }\n",
       "\n",
       "    .dataframe thead th {\n",
       "        text-align: right;\n",
       "    }\n",
       "</style>\n",
       "<table border=\"1\" class=\"dataframe\">\n",
       "  <thead>\n",
       "    <tr style=\"text-align: right;\">\n",
       "      <th></th>\n",
       "      <th>order_id</th>\n",
       "      <th>user_id</th>\n",
       "      <th>order_number</th>\n",
       "      <th>orders_day_of_week</th>\n",
       "      <th>order_hour_of_day</th>\n",
       "      <th>days_since_prior_order</th>\n",
       "      <th>new_customer</th>\n",
       "      <th>product_id</th>\n",
       "      <th>add_to_cart_order</th>\n",
       "      <th>reordered</th>\n",
       "      <th>...</th>\n",
       "      <th>frequency_flag</th>\n",
       "      <th>first_name</th>\n",
       "      <th>last_name</th>\n",
       "      <th>gender</th>\n",
       "      <th>state</th>\n",
       "      <th>age</th>\n",
       "      <th>date_joined</th>\n",
       "      <th>dependants</th>\n",
       "      <th>family_status</th>\n",
       "      <th>income</th>\n",
       "    </tr>\n",
       "  </thead>\n",
       "  <tbody>\n",
       "    <tr>\n",
       "      <th>7805</th>\n",
       "      <td>1435153</td>\n",
       "      <td>1519</td>\n",
       "      <td>26</td>\n",
       "      <td>2</td>\n",
       "      <td>11</td>\n",
       "      <td>6.0</td>\n",
       "      <td>False</td>\n",
       "      <td>21553.0</td>\n",
       "      <td>15.0</td>\n",
       "      <td>0.0</td>\n",
       "      <td>...</td>\n",
       "      <td>Frequent customer</td>\n",
       "      <td>Craig</td>\n",
       "      <td>Clark</td>\n",
       "      <td>Male</td>\n",
       "      <td>Rhode Island</td>\n",
       "      <td>68</td>\n",
       "      <td>3/4/2020</td>\n",
       "      <td>0</td>\n",
       "      <td>divorced/widowed</td>\n",
       "      <td>177864</td>\n",
       "    </tr>\n",
       "    <tr>\n",
       "      <th>7806</th>\n",
       "      <td>1066435</td>\n",
       "      <td>1519</td>\n",
       "      <td>32</td>\n",
       "      <td>3</td>\n",
       "      <td>10</td>\n",
       "      <td>5.0</td>\n",
       "      <td>False</td>\n",
       "      <td>21553.0</td>\n",
       "      <td>28.0</td>\n",
       "      <td>1.0</td>\n",
       "      <td>...</td>\n",
       "      <td>Frequent customer</td>\n",
       "      <td>Craig</td>\n",
       "      <td>Clark</td>\n",
       "      <td>Male</td>\n",
       "      <td>Rhode Island</td>\n",
       "      <td>68</td>\n",
       "      <td>3/4/2020</td>\n",
       "      <td>0</td>\n",
       "      <td>divorced/widowed</td>\n",
       "      <td>177864</td>\n",
       "    </tr>\n",
       "    <tr>\n",
       "      <th>15143</th>\n",
       "      <td>1697208</td>\n",
       "      <td>2409</td>\n",
       "      <td>33</td>\n",
       "      <td>1</td>\n",
       "      <td>19</td>\n",
       "      <td>5.0</td>\n",
       "      <td>False</td>\n",
       "      <td>21553.0</td>\n",
       "      <td>1.0</td>\n",
       "      <td>0.0</td>\n",
       "      <td>...</td>\n",
       "      <td>Frequent customer</td>\n",
       "      <td>Nicole</td>\n",
       "      <td>Odonnell</td>\n",
       "      <td>Female</td>\n",
       "      <td>Hawaii</td>\n",
       "      <td>55</td>\n",
       "      <td>11/11/2018</td>\n",
       "      <td>2</td>\n",
       "      <td>married</td>\n",
       "      <td>230074</td>\n",
       "    </tr>\n",
       "    <tr>\n",
       "      <th>20264</th>\n",
       "      <td>965345</td>\n",
       "      <td>3531</td>\n",
       "      <td>27</td>\n",
       "      <td>2</td>\n",
       "      <td>19</td>\n",
       "      <td>8.0</td>\n",
       "      <td>False</td>\n",
       "      <td>33664.0</td>\n",
       "      <td>2.0</td>\n",
       "      <td>0.0</td>\n",
       "      <td>...</td>\n",
       "      <td>Frequent customer</td>\n",
       "      <td>Alice</td>\n",
       "      <td>Compton</td>\n",
       "      <td>Female</td>\n",
       "      <td>Hawaii</td>\n",
       "      <td>80</td>\n",
       "      <td>10/6/2019</td>\n",
       "      <td>2</td>\n",
       "      <td>married</td>\n",
       "      <td>233776</td>\n",
       "    </tr>\n",
       "    <tr>\n",
       "      <th>20497</th>\n",
       "      <td>2943740</td>\n",
       "      <td>3793</td>\n",
       "      <td>1</td>\n",
       "      <td>2</td>\n",
       "      <td>9</td>\n",
       "      <td>NaN</td>\n",
       "      <td>True</td>\n",
       "      <td>21553.0</td>\n",
       "      <td>3.0</td>\n",
       "      <td>0.0</td>\n",
       "      <td>...</td>\n",
       "      <td>Regular customer</td>\n",
       "      <td>Jerry</td>\n",
       "      <td>Allen</td>\n",
       "      <td>Male</td>\n",
       "      <td>Louisiana</td>\n",
       "      <td>59</td>\n",
       "      <td>8/23/2019</td>\n",
       "      <td>3</td>\n",
       "      <td>married</td>\n",
       "      <td>182933</td>\n",
       "    </tr>\n",
       "    <tr>\n",
       "      <th>...</th>\n",
       "      <td>...</td>\n",
       "      <td>...</td>\n",
       "      <td>...</td>\n",
       "      <td>...</td>\n",
       "      <td>...</td>\n",
       "      <td>...</td>\n",
       "      <td>...</td>\n",
       "      <td>...</td>\n",
       "      <td>...</td>\n",
       "      <td>...</td>\n",
       "      <td>...</td>\n",
       "      <td>...</td>\n",
       "      <td>...</td>\n",
       "      <td>...</td>\n",
       "      <td>...</td>\n",
       "      <td>...</td>\n",
       "      <td>...</td>\n",
       "      <td>...</td>\n",
       "      <td>...</td>\n",
       "      <td>...</td>\n",
       "      <td>...</td>\n",
       "    </tr>\n",
       "    <tr>\n",
       "      <th>32303799</th>\n",
       "      <td>3265389</td>\n",
       "      <td>51346</td>\n",
       "      <td>4</td>\n",
       "      <td>1</td>\n",
       "      <td>17</td>\n",
       "      <td>13.0</td>\n",
       "      <td>False</td>\n",
       "      <td>33664.0</td>\n",
       "      <td>2.0</td>\n",
       "      <td>1.0</td>\n",
       "      <td>...</td>\n",
       "      <td>Regular customer</td>\n",
       "      <td>nan</td>\n",
       "      <td>Gould</td>\n",
       "      <td>Male</td>\n",
       "      <td>Rhode Island</td>\n",
       "      <td>58</td>\n",
       "      <td>1/25/2019</td>\n",
       "      <td>1</td>\n",
       "      <td>married</td>\n",
       "      <td>207497</td>\n",
       "    </tr>\n",
       "    <tr>\n",
       "      <th>32307882</th>\n",
       "      <td>1179092</td>\n",
       "      <td>131671</td>\n",
       "      <td>12</td>\n",
       "      <td>4</td>\n",
       "      <td>9</td>\n",
       "      <td>15.0</td>\n",
       "      <td>False</td>\n",
       "      <td>33664.0</td>\n",
       "      <td>1.0</td>\n",
       "      <td>0.0</td>\n",
       "      <td>...</td>\n",
       "      <td>Regular customer</td>\n",
       "      <td>Diana</td>\n",
       "      <td>Hansen</td>\n",
       "      <td>Female</td>\n",
       "      <td>Rhode Island</td>\n",
       "      <td>35</td>\n",
       "      <td>8/4/2018</td>\n",
       "      <td>0</td>\n",
       "      <td>single</td>\n",
       "      <td>86490</td>\n",
       "    </tr>\n",
       "    <tr>\n",
       "      <th>32310810</th>\n",
       "      <td>1226705</td>\n",
       "      <td>39667</td>\n",
       "      <td>7</td>\n",
       "      <td>2</td>\n",
       "      <td>15</td>\n",
       "      <td>20.0</td>\n",
       "      <td>False</td>\n",
       "      <td>33664.0</td>\n",
       "      <td>14.0</td>\n",
       "      <td>0.0</td>\n",
       "      <td>...</td>\n",
       "      <td>Non-frequent customer</td>\n",
       "      <td>Johnny</td>\n",
       "      <td>Colon</td>\n",
       "      <td>Male</td>\n",
       "      <td>Rhode Island</td>\n",
       "      <td>78</td>\n",
       "      <td>5/8/2019</td>\n",
       "      <td>2</td>\n",
       "      <td>married</td>\n",
       "      <td>195077</td>\n",
       "    </tr>\n",
       "    <tr>\n",
       "      <th>32330048</th>\n",
       "      <td>3000037</td>\n",
       "      <td>95105</td>\n",
       "      <td>2</td>\n",
       "      <td>4</td>\n",
       "      <td>19</td>\n",
       "      <td>22.0</td>\n",
       "      <td>False</td>\n",
       "      <td>33664.0</td>\n",
       "      <td>4.0</td>\n",
       "      <td>0.0</td>\n",
       "      <td>...</td>\n",
       "      <td>Frequent customer</td>\n",
       "      <td>Catherine</td>\n",
       "      <td>Browning</td>\n",
       "      <td>Female</td>\n",
       "      <td>South Carolina</td>\n",
       "      <td>48</td>\n",
       "      <td>1/18/2017</td>\n",
       "      <td>2</td>\n",
       "      <td>married</td>\n",
       "      <td>398880</td>\n",
       "    </tr>\n",
       "    <tr>\n",
       "      <th>32330049</th>\n",
       "      <td>2741225</td>\n",
       "      <td>95105</td>\n",
       "      <td>4</td>\n",
       "      <td>5</td>\n",
       "      <td>12</td>\n",
       "      <td>2.0</td>\n",
       "      <td>False</td>\n",
       "      <td>33664.0</td>\n",
       "      <td>3.0</td>\n",
       "      <td>1.0</td>\n",
       "      <td>...</td>\n",
       "      <td>Frequent customer</td>\n",
       "      <td>Catherine</td>\n",
       "      <td>Browning</td>\n",
       "      <td>Female</td>\n",
       "      <td>South Carolina</td>\n",
       "      <td>48</td>\n",
       "      <td>1/18/2017</td>\n",
       "      <td>2</td>\n",
       "      <td>married</td>\n",
       "      <td>398880</td>\n",
       "    </tr>\n",
       "  </tbody>\n",
       "</table>\n",
       "<p>5127 rows × 34 columns</p>\n",
       "</div>"
      ],
      "text/plain": [
       "          order_id  user_id  order_number  orders_day_of_week  \\\n",
       "7805       1435153     1519            26                   2   \n",
       "7806       1066435     1519            32                   3   \n",
       "15143      1697208     2409            33                   1   \n",
       "20264       965345     3531            27                   2   \n",
       "20497      2943740     3793             1                   2   \n",
       "...            ...      ...           ...                 ...   \n",
       "32303799   3265389    51346             4                   1   \n",
       "32307882   1179092   131671            12                   4   \n",
       "32310810   1226705    39667             7                   2   \n",
       "32330048   3000037    95105             2                   4   \n",
       "32330049   2741225    95105             4                   5   \n",
       "\n",
       "          order_hour_of_day  days_since_prior_order  new_customer  product_id  \\\n",
       "7805                     11                     6.0         False     21553.0   \n",
       "7806                     10                     5.0         False     21553.0   \n",
       "15143                    19                     5.0         False     21553.0   \n",
       "20264                    19                     8.0         False     33664.0   \n",
       "20497                     9                     NaN          True     21553.0   \n",
       "...                     ...                     ...           ...         ...   \n",
       "32303799                 17                    13.0         False     33664.0   \n",
       "32307882                  9                    15.0         False     33664.0   \n",
       "32310810                 15                    20.0         False     33664.0   \n",
       "32330048                 19                    22.0         False     33664.0   \n",
       "32330049                 12                     2.0         False     33664.0   \n",
       "\n",
       "          add_to_cart_order  reordered  ...         frequency_flag first_name  \\\n",
       "7805                   15.0        0.0  ...      Frequent customer      Craig   \n",
       "7806                   28.0        1.0  ...      Frequent customer      Craig   \n",
       "15143                   1.0        0.0  ...      Frequent customer     Nicole   \n",
       "20264                   2.0        0.0  ...      Frequent customer      Alice   \n",
       "20497                   3.0        0.0  ...       Regular customer      Jerry   \n",
       "...                     ...        ...  ...                    ...        ...   \n",
       "32303799                2.0        1.0  ...       Regular customer        nan   \n",
       "32307882                1.0        0.0  ...       Regular customer      Diana   \n",
       "32310810               14.0        0.0  ...  Non-frequent customer     Johnny   \n",
       "32330048                4.0        0.0  ...      Frequent customer  Catherine   \n",
       "32330049                3.0        1.0  ...      Frequent customer  Catherine   \n",
       "\n",
       "          last_name  gender           state age date_joined dependants  \\\n",
       "7805          Clark    Male    Rhode Island  68    3/4/2020          0   \n",
       "7806          Clark    Male    Rhode Island  68    3/4/2020          0   \n",
       "15143      Odonnell  Female          Hawaii  55  11/11/2018          2   \n",
       "20264       Compton  Female          Hawaii  80   10/6/2019          2   \n",
       "20497         Allen    Male       Louisiana  59   8/23/2019          3   \n",
       "...             ...     ...             ...  ..         ...        ...   \n",
       "32303799      Gould    Male    Rhode Island  58   1/25/2019          1   \n",
       "32307882     Hansen  Female    Rhode Island  35    8/4/2018          0   \n",
       "32310810      Colon    Male    Rhode Island  78    5/8/2019          2   \n",
       "32330048   Browning  Female  South Carolina  48   1/18/2017          2   \n",
       "32330049   Browning  Female  South Carolina  48   1/18/2017          2   \n",
       "\n",
       "             family_status  income  \n",
       "7805      divorced/widowed  177864  \n",
       "7806      divorced/widowed  177864  \n",
       "15143              married  230074  \n",
       "20264              married  233776  \n",
       "20497              married  182933  \n",
       "...                    ...     ...  \n",
       "32303799           married  207497  \n",
       "32307882            single   86490  \n",
       "32310810           married  195077  \n",
       "32330048           married  398880  \n",
       "32330049           married  398880  \n",
       "\n",
       "[5127 rows x 34 columns]"
      ]
     },
     "execution_count": 12,
     "metadata": {},
     "output_type": "execute_result"
    }
   ],
   "source": [
    "df_ord_prods_cust.loc[df_ord_prods_cust['prices'] > 100]"
   ]
  },
  {
   "cell_type": "code",
   "execution_count": 13,
   "id": "b7267537",
   "metadata": {},
   "outputs": [],
   "source": [
    "df_ord_prods_cust.loc[df_ord_prods_cust['prices'] > 100, 'prices'] = np.nan"
   ]
  },
  {
   "cell_type": "code",
   "execution_count": 14,
   "id": "f371c214",
   "metadata": {},
   "outputs": [
    {
     "data": {
      "text/plain": [
       "25.0"
      ]
     },
     "execution_count": 14,
     "metadata": {},
     "output_type": "execute_result"
    }
   ],
   "source": [
    "df_ord_prods_cust['prices'].max()"
   ]
  },
  {
   "cell_type": "code",
   "execution_count": 15,
   "id": "ad6a6467",
   "metadata": {
    "scrolled": true
   },
   "outputs": [
    {
     "data": {
      "image/png": "[encoded data removed]",
      "text/plain": [
       "<Figure size 432x288 with 1 Axes>"
      ]
     },
     "metadata": {
      "needs_background": "light"
     },
     "output_type": "display_data"
    }
   ],
   "source": [
    "prices = df_ord_prods_cust['prices'].plot.hist(bins = 60)"
   ]
  },
  {
   "cell_type": "code",
   "execution_count": 16,
   "id": "9b241abc",
   "metadata": {},
   "outputs": [],
   "source": [
    "# Exporting bar chart\n",
    "prices.figure.savefig(os.path.join(path, '04 Analysis','Visualizations', 'prices.png'))"
   ]
  },
  {
   "cell_type": "code",
   "execution_count": 17,
   "id": "7938e267",
   "metadata": {
    "scrolled": false
   },
   "outputs": [
    {
     "data": {
      "image/png": "[encoded data removed]",
      "text/plain": [
       "<Figure size 432x288 with 1 Axes>"
      ]
     },
     "metadata": {
      "needs_background": "light"
     },
     "output_type": "display_data"
    }
   ],
   "source": [
    "prices_2 = sns.scatterplot(x = 'prices', y = 'prices', data = df_ord_prods_cust)"
   ]
  },
  {
   "cell_type": "code",
   "execution_count": 18,
   "id": "dfd1f042",
   "metadata": {},
   "outputs": [],
   "source": [
    "# Exporting line chart\n",
    "prices_2.figure.savefig(os.path.join(path, '04 Analysis','Visualizations', 'prices_2.png'))"
   ]
  },
  {
   "cell_type": "markdown",
   "id": "5462e731",
   "metadata": {},
   "source": [
    "### Line Charts"
   ]
  },
  {
   "cell_type": "code",
   "execution_count": 19,
   "id": "56cf27a5",
   "metadata": {},
   "outputs": [],
   "source": [
    "np.random.seed(4)\n",
    "dev = np.random.rand(len(df_ord_prods_cust)) <= 0.7"
   ]
  },
  {
   "cell_type": "code",
   "execution_count": 20,
   "id": "7a2a21ad",
   "metadata": {},
   "outputs": [
    {
     "data": {
      "text/plain": [
       "array([0.93546686, 0.06557465, 0.85698584, 0.24456371, 0.22683171,\n",
       "       0.17068366, 0.27008946, 0.52534234, 0.83151571, 0.78153402])"
      ]
     },
     "execution_count": 20,
     "metadata": {},
     "output_type": "execute_result"
    }
   ],
   "source": [
    "np.random.rand(10)"
   ]
  },
  {
   "cell_type": "code",
   "execution_count": 21,
   "id": "fa68ca1a",
   "metadata": {},
   "outputs": [],
   "source": [
    "# Store 70% of the sample in the dataframe big\n",
    "big = df_ord_prods_cust[dev]"
   ]
  },
  {
   "cell_type": "code",
   "execution_count": 22,
   "id": "567149cf",
   "metadata": {},
   "outputs": [],
   "source": [
    "# Store 30% of the sample in the dataframe small\n",
    "small = df_ord_prods_cust[~dev]"
   ]
  },
  {
   "cell_type": "code",
   "execution_count": 23,
   "id": "bfc63460",
   "metadata": {},
   "outputs": [
    {
     "data": {
      "text/plain": [
       "32404859"
      ]
     },
     "execution_count": 23,
     "metadata": {},
     "output_type": "execute_result"
    }
   ],
   "source": [
    "len(df_ord_prods_cust)"
   ]
  },
  {
   "cell_type": "code",
   "execution_count": 24,
   "id": "46b7f546",
   "metadata": {},
   "outputs": [
    {
     "data": {
      "text/plain": [
       "32404859"
      ]
     },
     "execution_count": 24,
     "metadata": {},
     "output_type": "execute_result"
    }
   ],
   "source": [
    "len(big)+len(small)"
   ]
  },
  {
   "cell_type": "code",
   "execution_count": 25,
   "id": "6b086680",
   "metadata": {},
   "outputs": [],
   "source": [
    "df_2 = small[['orders_day_of_week','prices']]"
   ]
  },
  {
   "cell_type": "code",
   "execution_count": 26,
   "id": "068f5081",
   "metadata": {
    "scrolled": true
   },
   "outputs": [
    {
     "data": {
      "image/png": "[encoded data removed]",
      "text/plain": [
       "<Figure size 432x288 with 1 Axes>"
      ]
     },
     "metadata": {
      "needs_background": "light"
     },
     "output_type": "display_data"
    }
   ],
   "source": [
    "price_week = sns.lineplot(data = df_2, x = 'orders_day_of_week',y = 'prices')"
   ]
  },
  {
   "cell_type": "code",
   "execution_count": 27,
   "id": "4fed40ca",
   "metadata": {},
   "outputs": [],
   "source": [
    "# Exporting chart\n",
    "price_week.figure.savefig(os.path.join(path, '04 Analysis','Visualizations', 'price_week.png'))"
   ]
  },
  {
   "cell_type": "markdown",
   "id": "0cef75c0",
   "metadata": {},
   "source": [
    "### 3. You need to provide the Instacart senior stakeholders with descriptive findings about sales. Create a histogram of the “order_hour_of_day” column.\n",
    "In a markdown cell beneath your histogram, describe what the histogram demonstrates."
   ]
  },
  {
   "cell_type": "code",
   "execution_count": 28,
   "id": "fe1be078",
   "metadata": {
    "scrolled": true
   },
   "outputs": [
    {
     "data": {
      "image/png": "[encoded data removed]",
      "text/plain": [
       "<Figure size 432x288 with 1 Axes>"
      ]
     },
     "metadata": {
      "needs_background": "light"
     },
     "output_type": "display_data"
    }
   ],
   "source": [
    "order_hour_of_day_2 = df_ord_prods_cust['order_hour_of_day'].plot.hist(bins = 23)"
   ]
  },
  {
   "cell_type": "markdown",
   "id": "eca17b2a",
   "metadata": {},
   "source": [
    "The most popular hours for orders is 10 am - 3 pm"
   ]
  },
  {
   "cell_type": "code",
   "execution_count": 29,
   "id": "f420f65c",
   "metadata": {},
   "outputs": [],
   "source": [
    "# Exporting chart\n",
    "order_hour_of_day_2.figure.savefig(os.path.join(path, '04 Analysis','Visualizations', 'order_hour_of_day_2.png'))"
   ]
  },
  {
   "cell_type": "markdown",
   "id": "5fa6642f",
   "metadata": {},
   "source": [
    "### 4. The marketing team is curious about the distribution of orders among customers in terms of loyalty. Create a bar chart from the “loyalty_flag” column."
   ]
  },
  {
   "cell_type": "code",
   "execution_count": 30,
   "id": "6ee45a55",
   "metadata": {
    "scrolled": false
   },
   "outputs": [
    {
     "data": {
      "image/png": "[encoded data removed]",
      "text/plain": [
       "<Figure size 432x288 with 1 Axes>"
      ]
     },
     "metadata": {
      "needs_background": "light"
     },
     "output_type": "display_data"
    }
   ],
   "source": [
    "loyalty_flag = df_ord_prods_cust['loyalty_flag'].value_counts().sort_index().plot.bar() "
   ]
  },
  {
   "cell_type": "code",
   "execution_count": 31,
   "id": "16a7548c",
   "metadata": {},
   "outputs": [],
   "source": [
    "# Exporting chart\n",
    "loyalty_flag.figure.savefig(os.path.join(path, '04 Analysis','Visualizations', 'loyalty_flag.png'))"
   ]
  },
  {
   "cell_type": "markdown",
   "id": "057c85ad",
   "metadata": {},
   "source": [
    "### 5. Check whether there’s a difference in expenditure (the “prices” column) depending on the hour of the day. (Hint: To check this, you need to use an accurate sample for your line chart!)"
   ]
  },
  {
   "cell_type": "code",
   "execution_count": 32,
   "id": "cdecfd83",
   "metadata": {},
   "outputs": [],
   "source": [
    "np.random.seed(4)\n",
    "dev_2 = np.random.rand(len(df_ord_prods_cust)) <= 0.7"
   ]
  },
  {
   "cell_type": "code",
   "execution_count": 33,
   "id": "9c41c3e5",
   "metadata": {},
   "outputs": [],
   "source": [
    "# Store 70% of the sample in the dataframe big\n",
    "big = df_ord_prods_cust[dev_2]"
   ]
  },
  {
   "cell_type": "code",
   "execution_count": 34,
   "id": "32887a18",
   "metadata": {},
   "outputs": [],
   "source": [
    "# Store 30% of the sample in the dataframe small\n",
    "small = df_ord_prods_cust[~dev]"
   ]
  },
  {
   "cell_type": "code",
   "execution_count": 35,
   "id": "85aade39",
   "metadata": {},
   "outputs": [
    {
     "data": {
      "text/plain": [
       "32404859"
      ]
     },
     "execution_count": 35,
     "metadata": {},
     "output_type": "execute_result"
    }
   ],
   "source": [
    "len(df_ord_prods_cust)"
   ]
  },
  {
   "cell_type": "code",
   "execution_count": 36,
   "id": "c8c5bcce",
   "metadata": {},
   "outputs": [
    {
     "data": {
      "text/plain": [
       "32404859"
      ]
     },
     "execution_count": 36,
     "metadata": {},
     "output_type": "execute_result"
    }
   ],
   "source": [
    "len(big) + len(small)"
   ]
  },
  {
   "cell_type": "code",
   "execution_count": 37,
   "id": "7487e32d",
   "metadata": {},
   "outputs": [],
   "source": [
    "df_3 = small[['order_hour_of_day', 'prices']]"
   ]
  },
  {
   "cell_type": "code",
   "execution_count": 38,
   "id": "ce282ec0",
   "metadata": {
    "scrolled": true
   },
   "outputs": [
    {
     "data": {
      "image/png": "[encoded data removed]",
      "text/plain": [
       "<Figure size 432x288 with 1 Axes>"
      ]
     },
     "metadata": {
      "needs_background": "light"
     },
     "output_type": "display_data"
    }
   ],
   "source": [
    "hour_price_small = sns.lineplot(data = df_3, x = 'order_hour_of_day', y = 'prices')"
   ]
  },
  {
   "cell_type": "code",
   "execution_count": 40,
   "id": "09325110",
   "metadata": {},
   "outputs": [],
   "source": [
    "# Exporting chart\n",
    "hour_price_small.figure.savefig(os.path.join(path, '04 Analysis','Visualizations', 'hour_price.png'))"
   ]
  },
  {
   "cell_type": "markdown",
   "id": "7c875555",
   "metadata": {},
   "source": [
    "### 6. Now that you have information about customers, you need to conduct some exploratory analysis of customer demographics to inform the targeted marketing campaigns. First, determine whether there’s a connection between age and family status by creating a line chart exploring the connections between age and number of dependents:\n",
    "In a markdown cell beneath your line chart, describe what the line chart shows."
   ]
  },
  {
   "cell_type": "code",
   "execution_count": 41,
   "id": "43473322",
   "metadata": {},
   "outputs": [],
   "source": [
    "df_4 = small[['age', 'dependants']]"
   ]
  },
  {
   "cell_type": "code",
   "execution_count": 42,
   "id": "5e27dfe9",
   "metadata": {
    "scrolled": true
   },
   "outputs": [
    {
     "data": {
      "image/png": "[encoded data removed]",
      "text/plain": [
       "<Figure size 432x288 with 1 Axes>"
      ]
     },
     "metadata": {
      "needs_background": "light"
     },
     "output_type": "display_data"
    }
   ],
   "source": [
    "age_dependants = sns.lineplot(data = df_4, x = 'age', y = 'dependants')"
   ]
  },
  {
   "cell_type": "markdown",
   "id": "4c686acf",
   "metadata": {},
   "source": [
    "There is no strong relationship between age and the number of dependents."
   ]
  },
  {
   "cell_type": "code",
   "execution_count": 43,
   "id": "e40f993c",
   "metadata": {},
   "outputs": [],
   "source": [
    "# Exporting chart\n",
    "age_dependants.figure.savefig(os.path.join(path, '04 Analysis','Visualizations', 'age_dependants.png'))"
   ]
  },
  {
   "cell_type": "markdown",
   "id": "98ac8412",
   "metadata": {},
   "source": [
    "### 7. You’ll also need to explore whether there’s a connection between age and spending power. To visualize this relationship, create a scatterplot using the sns.scatterplot() function.\n",
    "In a markdown cell beneath your scatterplot, describe what the scatterplot shows."
   ]
  },
  {
   "cell_type": "code",
   "execution_count": 44,
   "id": "91058098",
   "metadata": {
    "scrolled": true
   },
   "outputs": [
    {
     "data": {
      "image/png": "[encoded data removed]",
      "text/plain": [
       "<Figure size 432x288 with 1 Axes>"
      ]
     },
     "metadata": {
      "needs_background": "light"
     },
     "output_type": "display_data"
    }
   ],
   "source": [
    "age_income = sns.scatterplot(x = 'age', y = 'income', data = df_ord_prods_cust)"
   ]
  },
  {
   "cell_type": "markdown",
   "id": "58a994cb",
   "metadata": {},
   "source": [
    "People between the ages of 20 and 40 have less spending power than those between the ages of 40 and 80."
   ]
  },
  {
   "cell_type": "code",
   "execution_count": 45,
   "id": "945a95e2",
   "metadata": {},
   "outputs": [],
   "source": [
    "# Exporting chart\n",
    "age_income.figure.savefig(os.path.join(path, '04 Analysis','Visualizations', 'age_income.png'), bbox_inches=\"tight\")"
   ]
  },
  {
   "cell_type": "code",
   "execution_count": null,
   "id": "24505d70",
   "metadata": {},
   "outputs": [],
   "source": []
  }
 ],
 "metadata": {
  "kernelspec": {
   "display_name": "Python 3 (ipykernel)",
   "language": "python",
   "name": "python3"
  },
  "language_info": {
   "codemirror_mode": {
    "name": "ipython",
    "version": 3
   },
   "file_extension": ".py",
   "mimetype": "text/x-python",
   "name": "python",
   "nbconvert_exporter": "python",
   "pygments_lexer": "ipython3",
   "version": "3.9.7"
  }
 },
 "nbformat": 4,
 "nbformat_minor": 5
}
