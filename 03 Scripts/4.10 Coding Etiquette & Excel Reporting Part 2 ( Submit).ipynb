{
 "cells": [
  {
   "cell_type": "markdown",
   "id": "3aa77612",
   "metadata": {},
   "source": [
    "### IMPORTING LIBRARIES AND DATA"
   ]
  },
  {
   "cell_type": "code",
   "execution_count": 1,
   "id": "d5c973c0",
   "metadata": {},
   "outputs": [],
   "source": [
    "#import libraries\n",
    "import pandas as pd\n",
    "import numpy as np\n",
    "import os\n",
    "import matplotlib.pyplot as plt\n",
    "import seaborn as sns\n",
    "import scipy"
   ]
  },
  {
   "cell_type": "code",
   "execution_count": 2,
   "id": "2c25fdd0",
   "metadata": {},
   "outputs": [],
   "source": [
    "path = r'C:\\Users\\jnyam\\Documents\\Instacart Basket Analysis'"
   ]
  },
  {
   "cell_type": "code",
   "execution_count": 3,
   "id": "16221438",
   "metadata": {},
   "outputs": [],
   "source": [
    "df_ord_prods_cust = pd.read_pickle(os.path.join(path, '02 Data','Prepared Data', 'ord_prods_cust_9.1.pkl'))"
   ]
  },
  {
   "cell_type": "code",
   "execution_count": 4,
   "id": "c27f1bae",
   "metadata": {},
   "outputs": [
    {
     "data": {
      "text/plain": [
       "(32404859, 34)"
      ]
     },
     "execution_count": 4,
     "metadata": {},
     "output_type": "execute_result"
    }
   ],
   "source": [
    "df_ord_prods_cust.shape"
   ]
  },
  {
   "cell_type": "markdown",
   "id": "08d93c54",
   "metadata": {},
   "source": [
    "### PROJECT KEY QUESTIONS: "
   ]
  },
  {
   "cell_type": "markdown",
   "id": "4f054f28",
   "metadata": {},
   "source": [
    "### 1. The sales team needs to know what the busiest days of the week and hours of the day are (i.e., the days and times with the most orders) in order to schedule ads at times when there are fewer orders."
   ]
  },
  {
   "cell_type": "code",
   "execution_count": 55,
   "id": "d8e79d70",
   "metadata": {},
   "outputs": [
    {
     "data": {
      "image/png": "[encoded data removed]",
      "text/plain": [
       "<Figure size 432x288 with 1 Axes>"
      ]
     },
     "metadata": {
      "needs_background": "light"
     },
     "output_type": "display_data"
    }
   ],
   "source": [
    "# The busies day of the week\n",
    "orders_day_of_week = df_ord_prods_cust['orders_day_of_week'].value_counts().sort_index().plot.bar(title = 'Orders per day', color=['purple', 'red', 'pink', 'orange', 'yellow', 'green', 'blue'])"
   ]
  },
  {
   "cell_type": "code",
   "execution_count": 6,
   "id": "03bca8e9",
   "metadata": {},
   "outputs": [],
   "source": [
    "orders_day_of_week.figure.savefig(os.path.join(path, '04 Analysis','Visualizations', 'orders_day_of_week.png'))"
   ]
  },
  {
   "cell_type": "code",
   "execution_count": 7,
   "id": "90e4e426",
   "metadata": {},
   "outputs": [],
   "source": [
    "crosstab_day_week = pd.crosstab(df_ord_prods_cust['orders_day_of_week'], df_ord_prods_cust['busiest_day'], dropna = False )"
   ]
  },
  {
   "cell_type": "code",
   "execution_count": 8,
   "id": "8078b7a6",
   "metadata": {},
   "outputs": [
    {
     "data": {
      "text/html": [
       "<div>\n",
       "<style scoped>\n",
       "    .dataframe tbody tr th:only-of-type {\n",
       "        vertical-align: middle;\n",
       "    }\n",
       "\n",
       "    .dataframe tbody tr th {\n",
       "        vertical-align: top;\n",
       "    }\n",
       "\n",
       "    .dataframe thead th {\n",
       "        text-align: right;\n",
       "    }\n",
       "</style>\n",
       "<table border=\"1\" class=\"dataframe\">\n",
       "  <thead>\n",
       "    <tr style=\"text-align: right;\">\n",
       "      <th>busiest_day</th>\n",
       "      <th>Busiest day</th>\n",
       "      <th>Least busy</th>\n",
       "      <th>Regularly busy</th>\n",
       "    </tr>\n",
       "    <tr>\n",
       "      <th>orders_day_of_week</th>\n",
       "      <th></th>\n",
       "      <th></th>\n",
       "      <th></th>\n",
       "    </tr>\n",
       "  </thead>\n",
       "  <tbody>\n",
       "    <tr>\n",
       "      <th>0</th>\n",
       "      <td>6204182</td>\n",
       "      <td>0</td>\n",
       "      <td>0</td>\n",
       "    </tr>\n",
       "    <tr>\n",
       "      <th>1</th>\n",
       "      <td>0</td>\n",
       "      <td>0</td>\n",
       "      <td>5660230</td>\n",
       "    </tr>\n",
       "    <tr>\n",
       "      <th>2</th>\n",
       "      <td>0</td>\n",
       "      <td>0</td>\n",
       "      <td>4213830</td>\n",
       "    </tr>\n",
       "    <tr>\n",
       "      <th>3</th>\n",
       "      <td>0</td>\n",
       "      <td>0</td>\n",
       "      <td>3840534</td>\n",
       "    </tr>\n",
       "    <tr>\n",
       "      <th>4</th>\n",
       "      <td>0</td>\n",
       "      <td>3783802</td>\n",
       "      <td>0</td>\n",
       "    </tr>\n",
       "    <tr>\n",
       "      <th>5</th>\n",
       "      <td>0</td>\n",
       "      <td>0</td>\n",
       "      <td>4205791</td>\n",
       "    </tr>\n",
       "    <tr>\n",
       "      <th>6</th>\n",
       "      <td>0</td>\n",
       "      <td>0</td>\n",
       "      <td>4496490</td>\n",
       "    </tr>\n",
       "  </tbody>\n",
       "</table>\n",
       "</div>"
      ],
      "text/plain": [
       "busiest_day         Busiest day  Least busy  Regularly busy\n",
       "orders_day_of_week                                         \n",
       "0                       6204182           0               0\n",
       "1                             0           0         5660230\n",
       "2                             0           0         4213830\n",
       "3                             0           0         3840534\n",
       "4                             0     3783802               0\n",
       "5                             0           0         4205791\n",
       "6                             0           0         4496490"
      ]
     },
     "execution_count": 8,
     "metadata": {},
     "output_type": "execute_result"
    }
   ],
   "source": [
    "crosstab_day_week"
   ]
  },
  {
   "cell_type": "code",
   "execution_count": 9,
   "id": "9343f521",
   "metadata": {},
   "outputs": [
    {
     "data": {
      "image/png": "[encoded data removed]",
      "text/plain": [
       "<Figure size 432x288 with 1 Axes>"
      ]
     },
     "metadata": {
      "needs_background": "light"
     },
     "output_type": "display_data"
    }
   ],
   "source": [
    "crosstab_day_week = crosstab_day_week.plot(kind = 'bar', stacked = True, title = 'Orders per day')"
   ]
  },
  {
   "cell_type": "code",
   "execution_count": 10,
   "id": "0af49476",
   "metadata": {},
   "outputs": [],
   "source": [
    "crosstab_day_week.figure.savefig(os.path.join(path, '04 Analysis','Visualizations', 'crosstab_day_week.png'))"
   ]
  },
  {
   "cell_type": "markdown",
   "id": "39e050f2",
   "metadata": {},
   "source": [
    "### 2.They also want to know whether there are particular times of the day when people spend the most money, as this might inform the type of products they advertise at these times."
   ]
  },
  {
   "cell_type": "code",
   "execution_count": 11,
   "id": "51fb547b",
   "metadata": {
    "scrolled": true
   },
   "outputs": [
    {
     "data": {
      "image/png": "[encoded data removed]",
      "text/plain": [
       "<Figure size 432x288 with 1 Axes>"
      ]
     },
     "metadata": {
      "needs_background": "light"
     },
     "output_type": "display_data"
    }
   ],
   "source": [
    "# The busies hour of the day\n",
    "order_by_hour = df_ord_prods_cust['order_hour_of_day'].value_counts().sort_index().plot.bar(color = 'green', title = 'Order by Hour')"
   ]
  },
  {
   "cell_type": "code",
   "execution_count": 12,
   "id": "c41ccd52",
   "metadata": {},
   "outputs": [],
   "source": [
    "order_by_hour.figure.savefig(os.path.join(path, '04 Analysis','Visualizations', 'order_by_hour.png'))"
   ]
  },
  {
   "cell_type": "code",
   "execution_count": 13,
   "id": "47c99029",
   "metadata": {},
   "outputs": [],
   "source": [
    "crosstab_hour_day = pd.crosstab(df_ord_prods_cust['order_hour_of_day'], df_ord_prods_cust['busiest_day'], dropna = False )"
   ]
  },
  {
   "cell_type": "code",
   "execution_count": 14,
   "id": "666368c8",
   "metadata": {},
   "outputs": [
    {
     "data": {
      "text/html": [
       "<div>\n",
       "<style scoped>\n",
       "    .dataframe tbody tr th:only-of-type {\n",
       "        vertical-align: middle;\n",
       "    }\n",
       "\n",
       "    .dataframe tbody tr th {\n",
       "        vertical-align: top;\n",
       "    }\n",
       "\n",
       "    .dataframe thead th {\n",
       "        text-align: right;\n",
       "    }\n",
       "</style>\n",
       "<table border=\"1\" class=\"dataframe\">\n",
       "  <thead>\n",
       "    <tr style=\"text-align: right;\">\n",
       "      <th>busiest_day</th>\n",
       "      <th>Busiest day</th>\n",
       "      <th>Least busy</th>\n",
       "      <th>Regularly busy</th>\n",
       "    </tr>\n",
       "    <tr>\n",
       "      <th>order_hour_of_day</th>\n",
       "      <th></th>\n",
       "      <th></th>\n",
       "      <th></th>\n",
       "    </tr>\n",
       "  </thead>\n",
       "  <tbody>\n",
       "    <tr>\n",
       "      <th>0</th>\n",
       "      <td>38841</td>\n",
       "      <td>24701</td>\n",
       "      <td>155227</td>\n",
       "    </tr>\n",
       "    <tr>\n",
       "      <th>1</th>\n",
       "      <td>22501</td>\n",
       "      <td>13518</td>\n",
       "      <td>79681</td>\n",
       "    </tr>\n",
       "    <tr>\n",
       "      <th>2</th>\n",
       "      <td>12715</td>\n",
       "      <td>7972</td>\n",
       "      <td>48688</td>\n",
       "    </tr>\n",
       "    <tr>\n",
       "      <th>3</th>\n",
       "      <td>8846</td>\n",
       "      <td>6328</td>\n",
       "      <td>36107</td>\n",
       "    </tr>\n",
       "    <tr>\n",
       "      <th>4</th>\n",
       "      <td>8367</td>\n",
       "      <td>6916</td>\n",
       "      <td>37959</td>\n",
       "    </tr>\n",
       "    <tr>\n",
       "      <th>5</th>\n",
       "      <td>11619</td>\n",
       "      <td>11992</td>\n",
       "      <td>64350</td>\n",
       "    </tr>\n",
       "    <tr>\n",
       "      <th>6</th>\n",
       "      <td>34950</td>\n",
       "      <td>39794</td>\n",
       "      <td>215749</td>\n",
       "    </tr>\n",
       "    <tr>\n",
       "      <th>7</th>\n",
       "      <td>133248</td>\n",
       "      <td>113397</td>\n",
       "      <td>644409</td>\n",
       "    </tr>\n",
       "    <tr>\n",
       "      <th>8</th>\n",
       "      <td>306184</td>\n",
       "      <td>193955</td>\n",
       "      <td>1217979</td>\n",
       "    </tr>\n",
       "    <tr>\n",
       "      <th>9</th>\n",
       "      <td>440896</td>\n",
       "      <td>269763</td>\n",
       "      <td>1743544</td>\n",
       "    </tr>\n",
       "    <tr>\n",
       "      <th>10</th>\n",
       "      <td>515688</td>\n",
       "      <td>305681</td>\n",
       "      <td>1940391</td>\n",
       "    </tr>\n",
       "    <tr>\n",
       "      <th>11</th>\n",
       "      <td>535299</td>\n",
       "      <td>300581</td>\n",
       "      <td>1900260</td>\n",
       "    </tr>\n",
       "    <tr>\n",
       "      <th>12</th>\n",
       "      <td>534854</td>\n",
       "      <td>289158</td>\n",
       "      <td>1794520</td>\n",
       "    </tr>\n",
       "    <tr>\n",
       "      <th>13</th>\n",
       "      <td>557922</td>\n",
       "      <td>293340</td>\n",
       "      <td>1809692</td>\n",
       "    </tr>\n",
       "    <tr>\n",
       "      <th>14</th>\n",
       "      <td>564393</td>\n",
       "      <td>296738</td>\n",
       "      <td>1828005</td>\n",
       "    </tr>\n",
       "    <tr>\n",
       "      <th>15</th>\n",
       "      <td>551565</td>\n",
       "      <td>299107</td>\n",
       "      <td>1811472</td>\n",
       "    </tr>\n",
       "    <tr>\n",
       "      <th>16</th>\n",
       "      <td>501181</td>\n",
       "      <td>297981</td>\n",
       "      <td>1736040</td>\n",
       "    </tr>\n",
       "    <tr>\n",
       "      <th>17</th>\n",
       "      <td>395353</td>\n",
       "      <td>253874</td>\n",
       "      <td>1438427</td>\n",
       "    </tr>\n",
       "    <tr>\n",
       "      <th>18</th>\n",
       "      <td>284252</td>\n",
       "      <td>207325</td>\n",
       "      <td>1144925</td>\n",
       "    </tr>\n",
       "    <tr>\n",
       "      <th>19</th>\n",
       "      <td>217145</td>\n",
       "      <td>168851</td>\n",
       "      <td>872309</td>\n",
       "    </tr>\n",
       "    <tr>\n",
       "      <th>20</th>\n",
       "      <td>183680</td>\n",
       "      <td>130502</td>\n",
       "      <td>661974</td>\n",
       "    </tr>\n",
       "    <tr>\n",
       "      <th>21</th>\n",
       "      <td>152993</td>\n",
       "      <td>108293</td>\n",
       "      <td>534351</td>\n",
       "    </tr>\n",
       "    <tr>\n",
       "      <th>22</th>\n",
       "      <td>120747</td>\n",
       "      <td>89402</td>\n",
       "      <td>424076</td>\n",
       "    </tr>\n",
       "    <tr>\n",
       "      <th>23</th>\n",
       "      <td>70943</td>\n",
       "      <td>54633</td>\n",
       "      <td>276740</td>\n",
       "    </tr>\n",
       "  </tbody>\n",
       "</table>\n",
       "</div>"
      ],
      "text/plain": [
       "busiest_day        Busiest day  Least busy  Regularly busy\n",
       "order_hour_of_day                                         \n",
       "0                        38841       24701          155227\n",
       "1                        22501       13518           79681\n",
       "2                        12715        7972           48688\n",
       "3                         8846        6328           36107\n",
       "4                         8367        6916           37959\n",
       "5                        11619       11992           64350\n",
       "6                        34950       39794          215749\n",
       "7                       133248      113397          644409\n",
       "8                       306184      193955         1217979\n",
       "9                       440896      269763         1743544\n",
       "10                      515688      305681         1940391\n",
       "11                      535299      300581         1900260\n",
       "12                      534854      289158         1794520\n",
       "13                      557922      293340         1809692\n",
       "14                      564393      296738         1828005\n",
       "15                      551565      299107         1811472\n",
       "16                      501181      297981         1736040\n",
       "17                      395353      253874         1438427\n",
       "18                      284252      207325         1144925\n",
       "19                      217145      168851          872309\n",
       "20                      183680      130502          661974\n",
       "21                      152993      108293          534351\n",
       "22                      120747       89402          424076\n",
       "23                       70943       54633          276740"
      ]
     },
     "execution_count": 14,
     "metadata": {},
     "output_type": "execute_result"
    }
   ],
   "source": [
    "crosstab_hour_day"
   ]
  },
  {
   "cell_type": "code",
   "execution_count": 15,
   "id": "2a28efdf",
   "metadata": {},
   "outputs": [
    {
     "data": {
      "image/png": "[encoded data removed]",
      "text/plain": [
       "<Figure size 432x288 with 1 Axes>"
      ]
     },
     "metadata": {
      "needs_background": "light"
     },
     "output_type": "display_data"
    }
   ],
   "source": [
    "crosstab_hour_day = crosstab_hour_day.plot(kind = 'bar', stacked = True)"
   ]
  },
  {
   "cell_type": "code",
   "execution_count": 16,
   "id": "0eebe66b",
   "metadata": {},
   "outputs": [],
   "source": [
    "crosstab_day_spending = pd.crosstab(df_ord_prods_cust['orders_day_of_week'], df_ord_prods_cust['spending_flag'], dropna = False )"
   ]
  },
  {
   "cell_type": "code",
   "execution_count": 17,
   "id": "de1cfb16",
   "metadata": {},
   "outputs": [
    {
     "data": {
      "image/png": "[encoded data removed]",
      "text/plain": [
       "<Figure size 432x288 with 1 Axes>"
      ]
     },
     "metadata": {
      "needs_background": "light"
     },
     "output_type": "display_data"
    }
   ],
   "source": [
    "crosstab_day_spending = crosstab_day_spending.plot(kind = 'line', stacked = True, title = 'Spending by day')"
   ]
  },
  {
   "cell_type": "code",
   "execution_count": 18,
   "id": "429ae7ca",
   "metadata": {},
   "outputs": [],
   "source": [
    "crosstab_day_spending.figure.savefig(os.path.join(path, '04 Analysis','Visualizations', 'crosstab_day_spending.png'))"
   ]
  },
  {
   "cell_type": "code",
   "execution_count": 19,
   "id": "48ab32c5",
   "metadata": {},
   "outputs": [
    {
     "data": {
      "text/plain": [
       "0            6.367797\n",
       "1            6.367797\n",
       "2            6.367797\n",
       "3            6.367797\n",
       "4            6.367797\n",
       "              ...    \n",
       "32404854    10.700000\n",
       "32404855     8.100000\n",
       "32404856     8.100000\n",
       "32404857     8.100000\n",
       "32404858     8.100000\n",
       "Name: spending, Length: 32404859, dtype: float64"
      ]
     },
     "execution_count": 19,
     "metadata": {},
     "output_type": "execute_result"
    }
   ],
   "source": [
    "df_ord_prods_cust.spending"
   ]
  },
  {
   "cell_type": "markdown",
   "id": "cbb59d47",
   "metadata": {},
   "source": [
    "### 3. Instacart has a lot of products with different price tags. Marketing and sales want to use simpler price range groupings to help direct their efforts."
   ]
  },
  {
   "cell_type": "code",
   "execution_count": 20,
   "id": "ccd3008e",
   "metadata": {},
   "outputs": [
    {
     "data": {
      "image/png": "[encoded data removed]",
      "text/plain": [
       "<Figure size 432x288 with 1 Axes>"
      ]
     },
     "metadata": {},
     "output_type": "display_data"
    }
   ],
   "source": [
    "price_range_loc = df_ord_prods_cust['price_range_loc'].value_counts().sort_index().plot.pie(ylabel = 'Price range', autopct = '%1.1f%%')"
   ]
  },
  {
   "cell_type": "code",
   "execution_count": 21,
   "id": "a9f23545",
   "metadata": {},
   "outputs": [],
   "source": [
    "price_range_loc.figure.savefig(os.path.join(path, '04 Analysis','Visualizations', 'price_range_loc.png'))"
   ]
  },
  {
   "cell_type": "code",
   "execution_count": 22,
   "id": "3d01ba14",
   "metadata": {},
   "outputs": [
    {
     "data": {
      "image/png": "[encoded data removed]",
      "text/plain": [
       "<Figure size 432x288 with 1 Axes>"
      ]
     },
     "metadata": {},
     "output_type": "display_data"
    }
   ],
   "source": [
    "busiest_period_of_day = df_ord_prods_cust['busiest_period_of_day'].value_counts().sort_index().plot.pie(autopct = '%1.1f%%')"
   ]
  },
  {
   "cell_type": "code",
   "execution_count": 23,
   "id": "e9faf237",
   "metadata": {},
   "outputs": [],
   "source": [
    "busiest_period_of_day.figure.savefig(os.path.join(path, '04 Analysis','Visualizations', 'busiest_period_of_day.png'))"
   ]
  },
  {
   "cell_type": "markdown",
   "id": "dc2ef2db",
   "metadata": {},
   "source": [
    "### 4. Are there certain types of products that are more popular than others? The marketing and sales teams want to know which departments have the highest frequency of product orders."
   ]
  },
  {
   "cell_type": "code",
   "execution_count": 61,
   "id": "b2cfeeef",
   "metadata": {},
   "outputs": [
    {
     "data": {
      "text/plain": [
       "Banana                                                    472565\n",
       "Bag of Organic Bananas                                    379450\n",
       "Organic Strawberries                                      264683\n",
       "Organic Baby Spinach                                      241921\n",
       "Organic Hass Avocado                                      213584\n",
       "                                                           ...  \n",
       "Deep Clean Cleanser & Mask                                     1\n",
       "Glycerine Soap Cucumber                                        1\n",
       "Pure Performance Restorative Shampoo Chamomile & Honey         1\n",
       "Gluten Free Almond Snap Cookies                                1\n",
       "Indian Wells Merlot                                            1\n",
       "Name: product_name, Length: 49661, dtype: int64"
      ]
     },
     "execution_count": 61,
     "metadata": {},
     "output_type": "execute_result"
    }
   ],
   "source": [
    "df_ord_prods_cust['product_name'].value_counts(dropna = False)"
   ]
  },
  {
   "cell_type": "code",
   "execution_count": 63,
   "id": "2eeada94",
   "metadata": {},
   "outputs": [],
   "source": [
    "crosstab_frequency = pd.crosstab(df_ord_prods_cust['department_id'], df_ord_prods_cust['frequency_flag'], dropna = False )"
   ]
  },
  {
   "cell_type": "code",
   "execution_count": 26,
   "id": "76067ba7",
   "metadata": {},
   "outputs": [
    {
     "data": {
      "text/html": [
       "<div>\n",
       "<style scoped>\n",
       "    .dataframe tbody tr th:only-of-type {\n",
       "        vertical-align: middle;\n",
       "    }\n",
       "\n",
       "    .dataframe tbody tr th {\n",
       "        vertical-align: top;\n",
       "    }\n",
       "\n",
       "    .dataframe thead th {\n",
       "        text-align: right;\n",
       "    }\n",
       "</style>\n",
       "<table border=\"1\" class=\"dataframe\">\n",
       "  <thead>\n",
       "    <tr style=\"text-align: right;\">\n",
       "      <th>frequency_flag</th>\n",
       "      <th>Frequent customer</th>\n",
       "      <th>Non-frequent customer</th>\n",
       "      <th>Regular customer</th>\n",
       "    </tr>\n",
       "    <tr>\n",
       "      <th>department_id</th>\n",
       "      <th></th>\n",
       "      <th></th>\n",
       "      <th></th>\n",
       "    </tr>\n",
       "  </thead>\n",
       "  <tbody>\n",
       "    <tr>\n",
       "      <th>1</th>\n",
       "      <td>1395346</td>\n",
       "      <td>287232</td>\n",
       "      <td>552164</td>\n",
       "    </tr>\n",
       "    <tr>\n",
       "      <th>2</th>\n",
       "      <td>24080</td>\n",
       "      <td>4204</td>\n",
       "      <td>8007</td>\n",
       "    </tr>\n",
       "    <tr>\n",
       "      <th>3</th>\n",
       "      <td>782925</td>\n",
       "      <td>129647</td>\n",
       "      <td>259856</td>\n",
       "    </tr>\n",
       "    <tr>\n",
       "      <th>4</th>\n",
       "      <td>6463262</td>\n",
       "      <td>990592</td>\n",
       "      <td>2025435</td>\n",
       "    </tr>\n",
       "    <tr>\n",
       "      <th>5</th>\n",
       "      <td>103146</td>\n",
       "      <td>17685</td>\n",
       "      <td>32865</td>\n",
       "    </tr>\n",
       "    <tr>\n",
       "      <th>6</th>\n",
       "      <td>173918</td>\n",
       "      <td>33079</td>\n",
       "      <td>62256</td>\n",
       "    </tr>\n",
       "    <tr>\n",
       "      <th>7</th>\n",
       "      <td>1784868</td>\n",
       "      <td>304072</td>\n",
       "      <td>599183</td>\n",
       "    </tr>\n",
       "    <tr>\n",
       "      <th>8</th>\n",
       "      <td>59767</td>\n",
       "      <td>11925</td>\n",
       "      <td>26024</td>\n",
       "    </tr>\n",
       "    <tr>\n",
       "      <th>9</th>\n",
       "      <td>544124</td>\n",
       "      <td>111456</td>\n",
       "      <td>211047</td>\n",
       "    </tr>\n",
       "    <tr>\n",
       "      <th>10</th>\n",
       "      <td>25371</td>\n",
       "      <td>3066</td>\n",
       "      <td>6136</td>\n",
       "    </tr>\n",
       "    <tr>\n",
       "      <th>11</th>\n",
       "      <td>280053</td>\n",
       "      <td>59075</td>\n",
       "      <td>108444</td>\n",
       "    </tr>\n",
       "    <tr>\n",
       "      <th>12</th>\n",
       "      <td>457658</td>\n",
       "      <td>84615</td>\n",
       "      <td>166654</td>\n",
       "    </tr>\n",
       "    <tr>\n",
       "      <th>13</th>\n",
       "      <td>1216702</td>\n",
       "      <td>230165</td>\n",
       "      <td>428502</td>\n",
       "    </tr>\n",
       "    <tr>\n",
       "      <th>14</th>\n",
       "      <td>463571</td>\n",
       "      <td>80674</td>\n",
       "      <td>158788</td>\n",
       "    </tr>\n",
       "    <tr>\n",
       "      <th>15</th>\n",
       "      <td>671983</td>\n",
       "      <td>137430</td>\n",
       "      <td>258645</td>\n",
       "    </tr>\n",
       "    <tr>\n",
       "      <th>16</th>\n",
       "      <td>3677609</td>\n",
       "      <td>567109</td>\n",
       "      <td>1154028</td>\n",
       "    </tr>\n",
       "    <tr>\n",
       "      <th>17</th>\n",
       "      <td>446148</td>\n",
       "      <td>106496</td>\n",
       "      <td>186021</td>\n",
       "    </tr>\n",
       "    <tr>\n",
       "      <th>18</th>\n",
       "      <td>319940</td>\n",
       "      <td>31932</td>\n",
       "      <td>71930</td>\n",
       "    </tr>\n",
       "    <tr>\n",
       "      <th>19</th>\n",
       "      <td>1933463</td>\n",
       "      <td>317524</td>\n",
       "      <td>636563</td>\n",
       "    </tr>\n",
       "    <tr>\n",
       "      <th>20</th>\n",
       "      <td>685793</td>\n",
       "      <td>122881</td>\n",
       "      <td>242575</td>\n",
       "    </tr>\n",
       "    <tr>\n",
       "      <th>21</th>\n",
       "      <td>50126</td>\n",
       "      <td>5578</td>\n",
       "      <td>13441</td>\n",
       "    </tr>\n",
       "  </tbody>\n",
       "</table>\n",
       "</div>"
      ],
      "text/plain": [
       "frequency_flag  Frequent customer  Non-frequent customer  Regular customer\n",
       "department_id                                                             \n",
       "1                         1395346                 287232            552164\n",
       "2                           24080                   4204              8007\n",
       "3                          782925                 129647            259856\n",
       "4                         6463262                 990592           2025435\n",
       "5                          103146                  17685             32865\n",
       "6                          173918                  33079             62256\n",
       "7                         1784868                 304072            599183\n",
       "8                           59767                  11925             26024\n",
       "9                          544124                 111456            211047\n",
       "10                          25371                   3066              6136\n",
       "11                         280053                  59075            108444\n",
       "12                         457658                  84615            166654\n",
       "13                        1216702                 230165            428502\n",
       "14                         463571                  80674            158788\n",
       "15                         671983                 137430            258645\n",
       "16                        3677609                 567109           1154028\n",
       "17                         446148                 106496            186021\n",
       "18                         319940                  31932             71930\n",
       "19                        1933463                 317524            636563\n",
       "20                         685793                 122881            242575\n",
       "21                          50126                   5578             13441"
      ]
     },
     "execution_count": 26,
     "metadata": {},
     "output_type": "execute_result"
    }
   ],
   "source": [
    "crosstab_frequency"
   ]
  },
  {
   "cell_type": "code",
   "execution_count": 27,
   "id": "af8f1113",
   "metadata": {},
   "outputs": [
    {
     "data": {
      "image/png": "[encoded data removed]",
      "text/plain": [
       "<Figure size 432x288 with 1 Axes>"
      ]
     },
     "metadata": {
      "needs_background": "light"
     },
     "output_type": "display_data"
    }
   ],
   "source": [
    "crosstab_frequency = crosstab_frequency.plot(kind = 'bar', stacked = True)"
   ]
  },
  {
   "cell_type": "code",
   "execution_count": 28,
   "id": "591359f9",
   "metadata": {},
   "outputs": [],
   "source": [
    "crosstab_frequency.figure.savefig(os.path.join(path, '04 Analysis','Visualizations', 'crosstab_frequency.png'))"
   ]
  },
  {
   "cell_type": "markdown",
   "id": "e52b94b5",
   "metadata": {},
   "source": [
    "### 5. What’s the distribution among users in regards to their brand loyalty (i.e., how often do they return to Instacart)?"
   ]
  },
  {
   "cell_type": "code",
   "execution_count": 29,
   "id": "2cefde77",
   "metadata": {
    "scrolled": true
   },
   "outputs": [
    {
     "data": {
      "image/png": "[encoded data removed]",
      "text/plain": [
       "<Figure size 432x288 with 1 Axes>"
      ]
     },
     "metadata": {},
     "output_type": "display_data"
    }
   ],
   "source": [
    "price_loyal = df_ord_prods_cust['loyalty_flag'].value_counts().sort_index().plot.pie(autopct = '%1.1f%%')"
   ]
  },
  {
   "cell_type": "code",
   "execution_count": 30,
   "id": "89d8e265",
   "metadata": {},
   "outputs": [],
   "source": [
    "price_loyal.figure.savefig(os.path.join(path, '04 Analysis','Visualizations', 'price_loyal.png'))"
   ]
  },
  {
   "cell_type": "code",
   "execution_count": 31,
   "id": "0a14d6b3",
   "metadata": {},
   "outputs": [],
   "source": [
    "crosstab_fre_loy = pd.crosstab(df_ord_prods_cust['loyalty_flag'], df_ord_prods_cust['frequency_flag'], dropna = False )"
   ]
  },
  {
   "cell_type": "code",
   "execution_count": 32,
   "id": "43c747af",
   "metadata": {
    "scrolled": true
   },
   "outputs": [
    {
     "data": {
      "image/png": "[encoded data removed]",
      "text/plain": [
       "<Figure size 432x288 with 1 Axes>"
      ]
     },
     "metadata": {
      "needs_background": "light"
     },
     "output_type": "display_data"
    }
   ],
   "source": [
    "crosstab_fre_loy = crosstab_fre_loy.plot(kind = 'bar', stacked = False)"
   ]
  },
  {
   "cell_type": "code",
   "execution_count": 33,
   "id": "2d4c01c5",
   "metadata": {},
   "outputs": [],
   "source": [
    "crosstab_fre_loy.figure.savefig(os.path.join(path, '04 Analysis','Visualizations', 'crosstab_fre_loy.png'), bbox_inches=\"tight\")"
   ]
  },
  {
   "cell_type": "code",
   "execution_count": 68,
   "id": "6120660d",
   "metadata": {},
   "outputs": [],
   "source": [
    "crosstab_since_loy = pd.crosstab(df_ord_prods_cust['days_since_prior_order'], df_ord_prods_cust['loyalty_flag'], dropna = False )"
   ]
  },
  {
   "cell_type": "code",
   "execution_count": 69,
   "id": "9359b20b",
   "metadata": {
    "scrolled": false
   },
   "outputs": [
    {
     "data": {
      "image/png": "[encoded data removed]",
      "text/plain": [
       "<Figure size 432x288 with 1 Axes>"
      ]
     },
     "metadata": {
      "needs_background": "light"
     },
     "output_type": "display_data"
    }
   ],
   "source": [
    "crosstab_since_loy = crosstab_since_loy.plot(kind = 'bar', stacked = True)"
   ]
  },
  {
   "cell_type": "code",
   "execution_count": 70,
   "id": "9ccf125b",
   "metadata": {},
   "outputs": [],
   "source": [
    "crosstab_since_loy.figure.savefig(os.path.join(path, '04 Analysis','Visualizations', 'crosstab_since_loy.png'), bbox_inches=\"tight\")"
   ]
  },
  {
   "cell_type": "code",
   "execution_count": 34,
   "id": "14360922",
   "metadata": {},
   "outputs": [
    {
     "data": {
      "text/plain": [
       "order_id                     int64\n",
       "user_id                      int64\n",
       "order_number                 int64\n",
       "orders_day_of_week           int64\n",
       "order_hour_of_day            int64\n",
       "days_since_prior_order     float64\n",
       "new_customer                  bool\n",
       "product_id                 float64\n",
       "add_to_cart_order          float64\n",
       "reordered                  float64\n",
       "_merge                    category\n",
       "product_name                object\n",
       "aisle_id                     int64\n",
       "department_id                int64\n",
       "prices                     float64\n",
       "price_range_loc             object\n",
       "busiest_day                 object\n",
       "Busiest_day_two             object\n",
       "busiest_period_of_day       object\n",
       "max_order                    int64\n",
       "loyalty_flag                object\n",
       "spending                   float64\n",
       "spending_flag               object\n",
       "frequency                  float64\n",
       "frequency_flag              object\n",
       "first_name                  object\n",
       "last_name                   object\n",
       "gender                      object\n",
       "state                       object\n",
       "age                          int64\n",
       "date_joined                 object\n",
       "dependants                   int64\n",
       "family_status               object\n",
       "income                       int64\n",
       "dtype: object"
      ]
     },
     "execution_count": 34,
     "metadata": {},
     "output_type": "execute_result"
    }
   ],
   "source": [
    "df_ord_prods_cust.dtypes"
   ]
  },
  {
   "cell_type": "markdown",
   "id": "f721e136",
   "metadata": {},
   "source": [
    "### 6. Are there differences in ordering habits based on a customer’s loyalty status?"
   ]
  },
  {
   "cell_type": "code",
   "execution_count": 35,
   "id": "9131cec0",
   "metadata": {},
   "outputs": [],
   "source": [
    "crosstab_loyal_spend = pd.crosstab(df_ord_prods_cust['loyalty_flag'], df_ord_prods_cust['spending_flag'], dropna = False )"
   ]
  },
  {
   "cell_type": "code",
   "execution_count": 36,
   "id": "4eefafd1",
   "metadata": {},
   "outputs": [
    {
     "data": {
      "image/png": "[encoded data removed]",
      "text/plain": [
       "<Figure size 432x288 with 1 Axes>"
      ]
     },
     "metadata": {
      "needs_background": "light"
     },
     "output_type": "display_data"
    }
   ],
   "source": [
    "crosstab_loyal_spend = crosstab_loyal_spend.plot(kind = 'bar', stacked = False)"
   ]
  },
  {
   "cell_type": "code",
   "execution_count": 37,
   "id": "77505b4f",
   "metadata": {},
   "outputs": [],
   "source": [
    "crosstab_loyal_spend.figure.savefig(os.path.join(path, '04 Analysis','Visualizations', 'crosstab_loyal_spend.png'), bbox_inches=\"tight\")"
   ]
  },
  {
   "cell_type": "code",
   "execution_count": null,
   "id": "9ebd4f31",
   "metadata": {},
   "outputs": [],
   "source": [
    "crosstab_loyal_age = pd.crosstab(df_ord_prods_cust['loyalty_flag'], df_ord_prods_cust['age_group'], dropna = False )"
   ]
  },
  {
   "cell_type": "code",
   "execution_count": null,
   "id": "a5a95c0d",
   "metadata": {},
   "outputs": [],
   "source": [
    "crosstab_loyal_age = crosstab_loyal_age.plot(kind = 'bar', stacked = False)"
   ]
  },
  {
   "cell_type": "code",
   "execution_count": null,
   "id": "4e9057c9",
   "metadata": {},
   "outputs": [],
   "source": [
    "crosstab_loyal_age.figure.savefig(os.path.join(path, '04 Analysis','Visualizations', 'crosstab_loyal_age.png'), bbox_inches=\"tight\")"
   ]
  },
  {
   "cell_type": "code",
   "execution_count": 40,
   "id": "3321f7cd",
   "metadata": {},
   "outputs": [],
   "source": [
    "crosstab_loyal_gender = pd.crosstab(df_ord_prods_cust['loyalty_flag'], df_ord_prods_cust['gender'], dropna = False )"
   ]
  },
  {
   "cell_type": "code",
   "execution_count": 41,
   "id": "779de7d0",
   "metadata": {},
   "outputs": [
    {
     "data": {
      "image/png": "[encoded data removed]",
      "text/plain": [
       "<Figure size 432x288 with 1 Axes>"
      ]
     },
     "metadata": {
      "needs_background": "light"
     },
     "output_type": "display_data"
    }
   ],
   "source": [
    "crosstab_loyal_gender = crosstab_loyal_gender.plot(kind = 'bar', stacked = False)"
   ]
  },
  {
   "cell_type": "code",
   "execution_count": 43,
   "id": "2909d48b",
   "metadata": {},
   "outputs": [],
   "source": [
    "crosstab_loyal_gender.figure.savefig(os.path.join(path, '04 Analysis','Visualizations', 'crosstab_loyal_gender.png'), bbox_inches=\"tight\")"
   ]
  },
  {
   "cell_type": "code",
   "execution_count": 44,
   "id": "f814d246",
   "metadata": {},
   "outputs": [
    {
     "data": {
      "text/plain": [
       "order_id                     int64\n",
       "user_id                      int64\n",
       "order_number                 int64\n",
       "orders_day_of_week           int64\n",
       "order_hour_of_day            int64\n",
       "days_since_prior_order     float64\n",
       "new_customer                  bool\n",
       "product_id                 float64\n",
       "add_to_cart_order          float64\n",
       "reordered                  float64\n",
       "_merge                    category\n",
       "product_name                object\n",
       "aisle_id                     int64\n",
       "department_id                int64\n",
       "prices                     float64\n",
       "price_range_loc             object\n",
       "busiest_day                 object\n",
       "Busiest_day_two             object\n",
       "busiest_period_of_day       object\n",
       "max_order                    int64\n",
       "loyalty_flag                object\n",
       "spending                   float64\n",
       "spending_flag               object\n",
       "frequency                  float64\n",
       "frequency_flag              object\n",
       "first_name                  object\n",
       "last_name                   object\n",
       "gender                      object\n",
       "state                       object\n",
       "age                          int64\n",
       "date_joined                 object\n",
       "dependants                   int64\n",
       "family_status               object\n",
       "income                       int64\n",
       "dtype: object"
      ]
     },
     "execution_count": 44,
     "metadata": {},
     "output_type": "execute_result"
    }
   ],
   "source": [
    "df_ord_prods_cust.dtypes"
   ]
  },
  {
   "cell_type": "markdown",
   "id": "325945fc",
   "metadata": {},
   "source": [
    "### GENDER"
   ]
  },
  {
   "cell_type": "code",
   "execution_count": 45,
   "id": "c91d9070",
   "metadata": {},
   "outputs": [],
   "source": [
    "crosstab_gender = pd.crosstab(df_ord_prods_cust['gender'], df_ord_prods_cust['frequency_flag'], dropna = False )"
   ]
  },
  {
   "cell_type": "code",
   "execution_count": 46,
   "id": "f2e864f1",
   "metadata": {},
   "outputs": [
    {
     "data": {
      "image/png": "[encoded data removed]",
      "text/plain": [
       "<Figure size 432x288 with 1 Axes>"
      ]
     },
     "metadata": {
      "needs_background": "light"
     },
     "output_type": "display_data"
    }
   ],
   "source": [
    "crosstab_gender = crosstab_gender.plot(kind = 'bar', stacked = True)"
   ]
  },
  {
   "cell_type": "code",
   "execution_count": 47,
   "id": "ffee0b98",
   "metadata": {},
   "outputs": [],
   "source": [
    "crosstab_gender.figure.savefig(os.path.join(path, '04 Analysis','Visualizations', 'crosstab_gender.png'), bbox_inches=\"tight\")"
   ]
  },
  {
   "cell_type": "markdown",
   "id": "6d1ecf92",
   "metadata": {},
   "source": [
    "### -----------------------------REGION/FREGUENCY FLAG------------------------------------"
   ]
  },
  {
   "cell_type": "code",
   "execution_count": null,
   "id": "50a85f48",
   "metadata": {},
   "outputs": [],
   "source": [
    "crosstab_region_fre = pd.crosstab(df_ord_prods_cust['region'], df_ord_prods_cust['frequency_flag'], dropna = False )                       "
   ]
  },
  {
   "cell_type": "code",
   "execution_count": null,
   "id": "00ca293c",
   "metadata": {},
   "outputs": [],
   "source": [
    "crosstab_region_fre = crosstab_region_fre.plot(kind = 'line', stacked = True, title = 'Freguency by region')"
   ]
  },
  {
   "cell_type": "code",
   "execution_count": null,
   "id": "44e8c009",
   "metadata": {},
   "outputs": [],
   "source": [
    "crosstab_region_fre.figure.savefig(os.path.join(path, '04 Analysis','Visualizations', 'crosstab_region_fre.png'), bbox_inches=\"tight\")"
   ]
  },
  {
   "cell_type": "markdown",
   "id": "10e62619",
   "metadata": {},
   "source": [
    "### 7. Are there differences in ordering habits based on a customer’s region?"
   ]
  },
  {
   "cell_type": "code",
   "execution_count": 56,
   "id": "d6800ff8",
   "metadata": {},
   "outputs": [],
   "source": [
    "# Created on Part 1"
   ]
  },
  {
   "cell_type": "markdown",
   "id": "4eb0713f",
   "metadata": {},
   "source": [
    "### 8. Is there a connection between age and family status in terms of ordering habits?"
   ]
  },
  {
   "cell_type": "code",
   "execution_count": 57,
   "id": "1b13021f",
   "metadata": {},
   "outputs": [],
   "source": [
    "# Created on Part 1"
   ]
  },
  {
   "cell_type": "markdown",
   "id": "61e63539",
   "metadata": {},
   "source": [
    "### 9. What different classifications does the demographic information suggest? Age? Income? Certain types of goods? Family status?\n"
   ]
  },
  {
   "cell_type": "code",
   "execution_count": 58,
   "id": "e19766ba",
   "metadata": {},
   "outputs": [],
   "source": []
  },
  {
   "cell_type": "markdown",
   "id": "8bdfbb40",
   "metadata": {},
   "source": [
    "### 10.What differences can you find in ordering habits of different customer profiles?Consider the price of orders, the frequency of orders, the products customers areordering, and anything else you can think of.\n"
   ]
  },
  {
   "cell_type": "code",
   "execution_count": 59,
   "id": "20174d1d",
   "metadata": {},
   "outputs": [],
   "source": [
    "#Answer is covering all part"
   ]
  },
  {
   "cell_type": "code",
   "execution_count": null,
   "id": "e63e28c3",
   "metadata": {},
   "outputs": [],
   "source": []
  }
 ],
 "metadata": {
  "kernelspec": {
   "display_name": "Python 3 (ipykernel)",
   "language": "python",
   "name": "python3"
  },
  "language_info": {
   "codemirror_mode": {
    "name": "ipython",
    "version": 3
   },
   "file_extension": ".py",
   "mimetype": "text/x-python",
   "name": "python",
   "nbconvert_exporter": "python",
   "pygments_lexer": "ipython3",
   "version": "3.9.7"
  }
 },
 "nbformat": 4,
 "nbformat_minor": 5
}
